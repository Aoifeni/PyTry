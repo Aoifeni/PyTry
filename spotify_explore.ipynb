{
 "cells": [
  {
   "cell_type": "code",
   "execution_count": 130,
   "id": "8a80aa60",
   "metadata": {},
   "outputs": [],
   "source": [
    "import numpy as np\n",
    "import pandas as pd\n",
    "import seaborn as sns\n",
    "from matplotlib import pyplot as plt"
   ]
  },
  {
   "cell_type": "code",
   "execution_count": 3,
   "id": "0eb73b95",
   "metadata": {
    "scrolled": true
   },
   "outputs": [
    {
     "data": {
      "text/html": [
       "<div>\n",
       "<style scoped>\n",
       "    .dataframe tbody tr th:only-of-type {\n",
       "        vertical-align: middle;\n",
       "    }\n",
       "\n",
       "    .dataframe tbody tr th {\n",
       "        vertical-align: top;\n",
       "    }\n",
       "\n",
       "    .dataframe thead th {\n",
       "        text-align: right;\n",
       "    }\n",
       "</style>\n",
       "<table border=\"1\" class=\"dataframe\">\n",
       "  <thead>\n",
       "    <tr style=\"text-align: right;\">\n",
       "      <th></th>\n",
       "      <th>Unnamed: 0</th>\n",
       "      <th>track_id</th>\n",
       "      <th>artists</th>\n",
       "      <th>album_name</th>\n",
       "      <th>track_name</th>\n",
       "      <th>popularity</th>\n",
       "      <th>duration_ms</th>\n",
       "      <th>explicit</th>\n",
       "      <th>danceability</th>\n",
       "      <th>energy</th>\n",
       "      <th>key</th>\n",
       "      <th>loudness</th>\n",
       "      <th>mode</th>\n",
       "      <th>speechiness</th>\n",
       "      <th>acousticness</th>\n",
       "      <th>instrumentalness</th>\n",
       "      <th>liveness</th>\n",
       "      <th>valence</th>\n",
       "      <th>tempo</th>\n",
       "      <th>time_signature</th>\n",
       "      <th>track_genre</th>\n",
       "    </tr>\n",
       "  </thead>\n",
       "  <tbody>\n",
       "    <tr>\n",
       "      <th>0</th>\n",
       "      <td>0</td>\n",
       "      <td>5SuOikwiRyPMVoIQDJUgSV</td>\n",
       "      <td>Gen Hoshino</td>\n",
       "      <td>Comedy</td>\n",
       "      <td>Comedy</td>\n",
       "      <td>73</td>\n",
       "      <td>230666</td>\n",
       "      <td>False</td>\n",
       "      <td>0.676</td>\n",
       "      <td>0.4610</td>\n",
       "      <td>1</td>\n",
       "      <td>-6.746</td>\n",
       "      <td>0</td>\n",
       "      <td>0.1430</td>\n",
       "      <td>0.0322</td>\n",
       "      <td>0.000001</td>\n",
       "      <td>0.3580</td>\n",
       "      <td>0.7150</td>\n",
       "      <td>87.917</td>\n",
       "      <td>4</td>\n",
       "      <td>acoustic</td>\n",
       "    </tr>\n",
       "    <tr>\n",
       "      <th>1</th>\n",
       "      <td>1</td>\n",
       "      <td>4qPNDBW1i3p13qLCt0Ki3A</td>\n",
       "      <td>Ben Woodward</td>\n",
       "      <td>Ghost (Acoustic)</td>\n",
       "      <td>Ghost - Acoustic</td>\n",
       "      <td>55</td>\n",
       "      <td>149610</td>\n",
       "      <td>False</td>\n",
       "      <td>0.420</td>\n",
       "      <td>0.1660</td>\n",
       "      <td>1</td>\n",
       "      <td>-17.235</td>\n",
       "      <td>1</td>\n",
       "      <td>0.0763</td>\n",
       "      <td>0.9240</td>\n",
       "      <td>0.000006</td>\n",
       "      <td>0.1010</td>\n",
       "      <td>0.2670</td>\n",
       "      <td>77.489</td>\n",
       "      <td>4</td>\n",
       "      <td>acoustic</td>\n",
       "    </tr>\n",
       "    <tr>\n",
       "      <th>2</th>\n",
       "      <td>2</td>\n",
       "      <td>1iJBSr7s7jYXzM8EGcbK5b</td>\n",
       "      <td>Ingrid Michaelson;ZAYN</td>\n",
       "      <td>To Begin Again</td>\n",
       "      <td>To Begin Again</td>\n",
       "      <td>57</td>\n",
       "      <td>210826</td>\n",
       "      <td>False</td>\n",
       "      <td>0.438</td>\n",
       "      <td>0.3590</td>\n",
       "      <td>0</td>\n",
       "      <td>-9.734</td>\n",
       "      <td>1</td>\n",
       "      <td>0.0557</td>\n",
       "      <td>0.2100</td>\n",
       "      <td>0.000000</td>\n",
       "      <td>0.1170</td>\n",
       "      <td>0.1200</td>\n",
       "      <td>76.332</td>\n",
       "      <td>4</td>\n",
       "      <td>acoustic</td>\n",
       "    </tr>\n",
       "    <tr>\n",
       "      <th>3</th>\n",
       "      <td>3</td>\n",
       "      <td>6lfxq3CG4xtTiEg7opyCyx</td>\n",
       "      <td>Kina Grannis</td>\n",
       "      <td>Crazy Rich Asians (Original Motion Picture Sou...</td>\n",
       "      <td>Can't Help Falling In Love</td>\n",
       "      <td>71</td>\n",
       "      <td>201933</td>\n",
       "      <td>False</td>\n",
       "      <td>0.266</td>\n",
       "      <td>0.0596</td>\n",
       "      <td>0</td>\n",
       "      <td>-18.515</td>\n",
       "      <td>1</td>\n",
       "      <td>0.0363</td>\n",
       "      <td>0.9050</td>\n",
       "      <td>0.000071</td>\n",
       "      <td>0.1320</td>\n",
       "      <td>0.1430</td>\n",
       "      <td>181.740</td>\n",
       "      <td>3</td>\n",
       "      <td>acoustic</td>\n",
       "    </tr>\n",
       "    <tr>\n",
       "      <th>4</th>\n",
       "      <td>4</td>\n",
       "      <td>5vjLSffimiIP26QG5WcN2K</td>\n",
       "      <td>Chord Overstreet</td>\n",
       "      <td>Hold On</td>\n",
       "      <td>Hold On</td>\n",
       "      <td>82</td>\n",
       "      <td>198853</td>\n",
       "      <td>False</td>\n",
       "      <td>0.618</td>\n",
       "      <td>0.4430</td>\n",
       "      <td>2</td>\n",
       "      <td>-9.681</td>\n",
       "      <td>1</td>\n",
       "      <td>0.0526</td>\n",
       "      <td>0.4690</td>\n",
       "      <td>0.000000</td>\n",
       "      <td>0.0829</td>\n",
       "      <td>0.1670</td>\n",
       "      <td>119.949</td>\n",
       "      <td>4</td>\n",
       "      <td>acoustic</td>\n",
       "    </tr>\n",
       "    <tr>\n",
       "      <th>5</th>\n",
       "      <td>5</td>\n",
       "      <td>01MVOl9KtVTNfFiBU9I7dc</td>\n",
       "      <td>Tyrone Wells</td>\n",
       "      <td>Days I Will Remember</td>\n",
       "      <td>Days I Will Remember</td>\n",
       "      <td>58</td>\n",
       "      <td>214240</td>\n",
       "      <td>False</td>\n",
       "      <td>0.688</td>\n",
       "      <td>0.4810</td>\n",
       "      <td>6</td>\n",
       "      <td>-8.807</td>\n",
       "      <td>1</td>\n",
       "      <td>0.1050</td>\n",
       "      <td>0.2890</td>\n",
       "      <td>0.000000</td>\n",
       "      <td>0.1890</td>\n",
       "      <td>0.6660</td>\n",
       "      <td>98.017</td>\n",
       "      <td>4</td>\n",
       "      <td>acoustic</td>\n",
       "    </tr>\n",
       "    <tr>\n",
       "      <th>6</th>\n",
       "      <td>6</td>\n",
       "      <td>6Vc5wAMmXdKIAM7WUoEb7N</td>\n",
       "      <td>A Great Big World;Christina Aguilera</td>\n",
       "      <td>Is There Anybody Out There?</td>\n",
       "      <td>Say Something</td>\n",
       "      <td>74</td>\n",
       "      <td>229400</td>\n",
       "      <td>False</td>\n",
       "      <td>0.407</td>\n",
       "      <td>0.1470</td>\n",
       "      <td>2</td>\n",
       "      <td>-8.822</td>\n",
       "      <td>1</td>\n",
       "      <td>0.0355</td>\n",
       "      <td>0.8570</td>\n",
       "      <td>0.000003</td>\n",
       "      <td>0.0913</td>\n",
       "      <td>0.0765</td>\n",
       "      <td>141.284</td>\n",
       "      <td>3</td>\n",
       "      <td>acoustic</td>\n",
       "    </tr>\n",
       "    <tr>\n",
       "      <th>7</th>\n",
       "      <td>7</td>\n",
       "      <td>1EzrEOXmMH3G43AXT1y7pA</td>\n",
       "      <td>Jason Mraz</td>\n",
       "      <td>We Sing. We Dance. We Steal Things.</td>\n",
       "      <td>I'm Yours</td>\n",
       "      <td>80</td>\n",
       "      <td>242946</td>\n",
       "      <td>False</td>\n",
       "      <td>0.703</td>\n",
       "      <td>0.4440</td>\n",
       "      <td>11</td>\n",
       "      <td>-9.331</td>\n",
       "      <td>1</td>\n",
       "      <td>0.0417</td>\n",
       "      <td>0.5590</td>\n",
       "      <td>0.000000</td>\n",
       "      <td>0.0973</td>\n",
       "      <td>0.7120</td>\n",
       "      <td>150.960</td>\n",
       "      <td>4</td>\n",
       "      <td>acoustic</td>\n",
       "    </tr>\n",
       "    <tr>\n",
       "      <th>8</th>\n",
       "      <td>8</td>\n",
       "      <td>0IktbUcnAGrvD03AWnz3Q8</td>\n",
       "      <td>Jason Mraz;Colbie Caillat</td>\n",
       "      <td>We Sing. We Dance. We Steal Things.</td>\n",
       "      <td>Lucky</td>\n",
       "      <td>74</td>\n",
       "      <td>189613</td>\n",
       "      <td>False</td>\n",
       "      <td>0.625</td>\n",
       "      <td>0.4140</td>\n",
       "      <td>0</td>\n",
       "      <td>-8.700</td>\n",
       "      <td>1</td>\n",
       "      <td>0.0369</td>\n",
       "      <td>0.2940</td>\n",
       "      <td>0.000000</td>\n",
       "      <td>0.1510</td>\n",
       "      <td>0.6690</td>\n",
       "      <td>130.088</td>\n",
       "      <td>4</td>\n",
       "      <td>acoustic</td>\n",
       "    </tr>\n",
       "    <tr>\n",
       "      <th>9</th>\n",
       "      <td>9</td>\n",
       "      <td>7k9GuJYLp2AzqokyEdwEw2</td>\n",
       "      <td>Ross Copperman</td>\n",
       "      <td>Hunger</td>\n",
       "      <td>Hunger</td>\n",
       "      <td>56</td>\n",
       "      <td>205594</td>\n",
       "      <td>False</td>\n",
       "      <td>0.442</td>\n",
       "      <td>0.6320</td>\n",
       "      <td>1</td>\n",
       "      <td>-6.770</td>\n",
       "      <td>1</td>\n",
       "      <td>0.0295</td>\n",
       "      <td>0.4260</td>\n",
       "      <td>0.004190</td>\n",
       "      <td>0.0735</td>\n",
       "      <td>0.1960</td>\n",
       "      <td>78.899</td>\n",
       "      <td>4</td>\n",
       "      <td>acoustic</td>\n",
       "    </tr>\n",
       "  </tbody>\n",
       "</table>\n",
       "</div>"
      ],
      "text/plain": [
       "   Unnamed: 0                track_id                               artists  \\\n",
       "0           0  5SuOikwiRyPMVoIQDJUgSV                           Gen Hoshino   \n",
       "1           1  4qPNDBW1i3p13qLCt0Ki3A                          Ben Woodward   \n",
       "2           2  1iJBSr7s7jYXzM8EGcbK5b                Ingrid Michaelson;ZAYN   \n",
       "3           3  6lfxq3CG4xtTiEg7opyCyx                          Kina Grannis   \n",
       "4           4  5vjLSffimiIP26QG5WcN2K                      Chord Overstreet   \n",
       "5           5  01MVOl9KtVTNfFiBU9I7dc                          Tyrone Wells   \n",
       "6           6  6Vc5wAMmXdKIAM7WUoEb7N  A Great Big World;Christina Aguilera   \n",
       "7           7  1EzrEOXmMH3G43AXT1y7pA                            Jason Mraz   \n",
       "8           8  0IktbUcnAGrvD03AWnz3Q8             Jason Mraz;Colbie Caillat   \n",
       "9           9  7k9GuJYLp2AzqokyEdwEw2                        Ross Copperman   \n",
       "\n",
       "                                          album_name  \\\n",
       "0                                             Comedy   \n",
       "1                                   Ghost (Acoustic)   \n",
       "2                                     To Begin Again   \n",
       "3  Crazy Rich Asians (Original Motion Picture Sou...   \n",
       "4                                            Hold On   \n",
       "5                               Days I Will Remember   \n",
       "6                        Is There Anybody Out There?   \n",
       "7                We Sing. We Dance. We Steal Things.   \n",
       "8                We Sing. We Dance. We Steal Things.   \n",
       "9                                             Hunger   \n",
       "\n",
       "                   track_name  popularity  duration_ms  explicit  \\\n",
       "0                      Comedy          73       230666     False   \n",
       "1            Ghost - Acoustic          55       149610     False   \n",
       "2              To Begin Again          57       210826     False   \n",
       "3  Can't Help Falling In Love          71       201933     False   \n",
       "4                     Hold On          82       198853     False   \n",
       "5        Days I Will Remember          58       214240     False   \n",
       "6               Say Something          74       229400     False   \n",
       "7                   I'm Yours          80       242946     False   \n",
       "8                       Lucky          74       189613     False   \n",
       "9                      Hunger          56       205594     False   \n",
       "\n",
       "   danceability  energy  key  loudness  mode  speechiness  acousticness  \\\n",
       "0         0.676  0.4610    1    -6.746     0       0.1430        0.0322   \n",
       "1         0.420  0.1660    1   -17.235     1       0.0763        0.9240   \n",
       "2         0.438  0.3590    0    -9.734     1       0.0557        0.2100   \n",
       "3         0.266  0.0596    0   -18.515     1       0.0363        0.9050   \n",
       "4         0.618  0.4430    2    -9.681     1       0.0526        0.4690   \n",
       "5         0.688  0.4810    6    -8.807     1       0.1050        0.2890   \n",
       "6         0.407  0.1470    2    -8.822     1       0.0355        0.8570   \n",
       "7         0.703  0.4440   11    -9.331     1       0.0417        0.5590   \n",
       "8         0.625  0.4140    0    -8.700     1       0.0369        0.2940   \n",
       "9         0.442  0.6320    1    -6.770     1       0.0295        0.4260   \n",
       "\n",
       "   instrumentalness  liveness  valence    tempo  time_signature track_genre  \n",
       "0          0.000001    0.3580   0.7150   87.917               4    acoustic  \n",
       "1          0.000006    0.1010   0.2670   77.489               4    acoustic  \n",
       "2          0.000000    0.1170   0.1200   76.332               4    acoustic  \n",
       "3          0.000071    0.1320   0.1430  181.740               3    acoustic  \n",
       "4          0.000000    0.0829   0.1670  119.949               4    acoustic  \n",
       "5          0.000000    0.1890   0.6660   98.017               4    acoustic  \n",
       "6          0.000003    0.0913   0.0765  141.284               3    acoustic  \n",
       "7          0.000000    0.0973   0.7120  150.960               4    acoustic  \n",
       "8          0.000000    0.1510   0.6690  130.088               4    acoustic  \n",
       "9          0.004190    0.0735   0.1960   78.899               4    acoustic  "
      ]
     },
     "execution_count": 3,
     "metadata": {},
     "output_type": "execute_result"
    }
   ],
   "source": [
    "df = pd.read_csv('/users/aoifesullivan/Downloads/dataset.csv')\n",
    "pd.set_option('display.max_columns', None)\n",
    "df.head(10)"
   ]
  },
  {
   "cell_type": "code",
   "execution_count": 142,
   "id": "dc6f03fa",
   "metadata": {},
   "outputs": [
    {
     "data": {
      "text/plain": [
       "<pandas.core.groupby.generic.DataFrameGroupBy object at 0x7fcbb37e80d0>"
      ]
     },
     "execution_count": 142,
     "metadata": {},
     "output_type": "execute_result"
    }
   ],
   "source": [
    "df.groupby('track_genre')"
   ]
  },
  {
   "cell_type": "code",
   "execution_count": 5,
   "id": "4148bb65",
   "metadata": {},
   "outputs": [
    {
     "data": {
      "text/plain": [
       "acoustic             1000\n",
       "punk-rock            1000\n",
       "progressive-house    1000\n",
       "power-pop            1000\n",
       "pop                  1000\n",
       "                     ... \n",
       "folk                 1000\n",
       "emo                  1000\n",
       "electronic           1000\n",
       "electro              1000\n",
       "world-music          1000\n",
       "Name: track_genre, Length: 114, dtype: int64"
      ]
     },
     "execution_count": 5,
     "metadata": {},
     "output_type": "execute_result"
    }
   ],
   "source": [
    "df.track_genre.value_counts()"
   ]
  },
  {
   "cell_type": "code",
   "execution_count": 6,
   "id": "95b781d1",
   "metadata": {},
   "outputs": [
    {
     "data": {
      "text/plain": [
       "comedy      656\n",
       "emo         465\n",
       "sad         450\n",
       "j-dance     391\n",
       "hardcore    325\n",
       "           ... \n",
       "guitar        2\n",
       "pop-film      1\n",
       "opera         1\n",
       "j-idol        1\n",
       "disney        1\n",
       "Name: track_genre, Length: 106, dtype: int64"
      ]
     },
     "execution_count": 6,
     "metadata": {},
     "output_type": "execute_result"
    }
   ],
   "source": [
    "df.loc[df.explicit==True].track_genre.value_counts()"
   ]
  },
  {
   "cell_type": "code",
   "execution_count": 7,
   "id": "1f24110e",
   "metadata": {},
   "outputs": [
    {
     "data": {
      "text/plain": [
       "(114000, 21)"
      ]
     },
     "execution_count": 7,
     "metadata": {},
     "output_type": "execute_result"
    }
   ],
   "source": [
    "df.shape"
   ]
  },
  {
   "cell_type": "code",
   "execution_count": 8,
   "id": "c81fe2db",
   "metadata": {},
   "outputs": [],
   "source": [
    "#just the length of the data set for percentages or whatever\n",
    "df_count = df.shape[0]"
   ]
  },
  {
   "cell_type": "code",
   "execution_count": 9,
   "id": "47dd8aa5",
   "metadata": {},
   "outputs": [
    {
     "name": "stdout",
     "output_type": "stream",
     "text": [
      "<class 'pandas.core.frame.DataFrame'>\n",
      "RangeIndex: 114000 entries, 0 to 113999\n",
      "Data columns (total 21 columns):\n",
      " #   Column            Non-Null Count   Dtype  \n",
      "---  ------            --------------   -----  \n",
      " 0   Unnamed: 0        114000 non-null  int64  \n",
      " 1   track_id          114000 non-null  object \n",
      " 2   artists           113999 non-null  object \n",
      " 3   album_name        113999 non-null  object \n",
      " 4   track_name        113999 non-null  object \n",
      " 5   popularity        114000 non-null  int64  \n",
      " 6   duration_ms       114000 non-null  int64  \n",
      " 7   explicit          114000 non-null  bool   \n",
      " 8   danceability      114000 non-null  float64\n",
      " 9   energy            114000 non-null  float64\n",
      " 10  key               114000 non-null  int64  \n",
      " 11  loudness          114000 non-null  float64\n",
      " 12  mode              114000 non-null  int64  \n",
      " 13  speechiness       114000 non-null  float64\n",
      " 14  acousticness      114000 non-null  float64\n",
      " 15  instrumentalness  114000 non-null  float64\n",
      " 16  liveness          114000 non-null  float64\n",
      " 17  valence           114000 non-null  float64\n",
      " 18  tempo             114000 non-null  float64\n",
      " 19  time_signature    114000 non-null  int64  \n",
      " 20  track_genre       114000 non-null  object \n",
      "dtypes: bool(1), float64(9), int64(6), object(5)\n",
      "memory usage: 17.5+ MB\n"
     ]
    }
   ],
   "source": [
    "df.info()"
   ]
  },
  {
   "cell_type": "markdown",
   "id": "7da2dc81",
   "metadata": {},
   "source": [
    "*A few ideas of things to work out:*\n",
    "- Top 10 most popular tracks\n",
    "- Top 10 most popular artists\n",
    "- Top 10 most popular genres\n",
    "- Correlation btween danceability and energy\n",
    "- Least popular songs graphed by genre\n",
    "- Most common time signature - graph it by frequency\n",
    "- Explicit vs non explicit percent - most and least explicit genre"
   ]
  },
  {
   "cell_type": "code",
   "execution_count": 10,
   "id": "41be98de",
   "metadata": {},
   "outputs": [
    {
     "data": {
      "text/plain": [
       "3"
      ]
     },
     "execution_count": 10,
     "metadata": {},
     "output_type": "execute_result"
    }
   ],
   "source": [
    "#pd.isna(df) #boolean masks if there are nulls or not\n",
    "#pd.isna(df).sum() # shows the columns where the nulls are\n",
    "pd.isna(df).sum().sum() #shows the total number of all missing values in the dataset, which is 3.\n"
   ]
  },
  {
   "cell_type": "code",
   "execution_count": 11,
   "id": "61b79d7a",
   "metadata": {},
   "outputs": [
    {
     "data": {
      "text/html": [
       "<div>\n",
       "<style scoped>\n",
       "    .dataframe tbody tr th:only-of-type {\n",
       "        vertical-align: middle;\n",
       "    }\n",
       "\n",
       "    .dataframe tbody tr th {\n",
       "        vertical-align: top;\n",
       "    }\n",
       "\n",
       "    .dataframe thead th {\n",
       "        text-align: right;\n",
       "    }\n",
       "</style>\n",
       "<table border=\"1\" class=\"dataframe\">\n",
       "  <thead>\n",
       "    <tr style=\"text-align: right;\">\n",
       "      <th></th>\n",
       "      <th>artists</th>\n",
       "    </tr>\n",
       "  </thead>\n",
       "  <tbody>\n",
       "    <tr>\n",
       "      <th>0</th>\n",
       "      <td>Gen Hoshino</td>\n",
       "    </tr>\n",
       "    <tr>\n",
       "      <th>1</th>\n",
       "      <td>Ben Woodward</td>\n",
       "    </tr>\n",
       "    <tr>\n",
       "      <th>2</th>\n",
       "      <td>Ingrid Michaelson;ZAYN</td>\n",
       "    </tr>\n",
       "    <tr>\n",
       "      <th>3</th>\n",
       "      <td>Kina Grannis</td>\n",
       "    </tr>\n",
       "    <tr>\n",
       "      <th>4</th>\n",
       "      <td>Chord Overstreet</td>\n",
       "    </tr>\n",
       "    <tr>\n",
       "      <th>...</th>\n",
       "      <td>...</td>\n",
       "    </tr>\n",
       "    <tr>\n",
       "      <th>113995</th>\n",
       "      <td>Rainy Lullaby</td>\n",
       "    </tr>\n",
       "    <tr>\n",
       "      <th>113996</th>\n",
       "      <td>Rainy Lullaby</td>\n",
       "    </tr>\n",
       "    <tr>\n",
       "      <th>113997</th>\n",
       "      <td>Cesária Evora</td>\n",
       "    </tr>\n",
       "    <tr>\n",
       "      <th>113998</th>\n",
       "      <td>Michael W. Smith</td>\n",
       "    </tr>\n",
       "    <tr>\n",
       "      <th>113999</th>\n",
       "      <td>Cesária Evora</td>\n",
       "    </tr>\n",
       "  </tbody>\n",
       "</table>\n",
       "<p>114000 rows × 1 columns</p>\n",
       "</div>"
      ],
      "text/plain": [
       "                       artists\n",
       "0                  Gen Hoshino\n",
       "1                 Ben Woodward\n",
       "2       Ingrid Michaelson;ZAYN\n",
       "3                 Kina Grannis\n",
       "4             Chord Overstreet\n",
       "...                        ...\n",
       "113995           Rainy Lullaby\n",
       "113996           Rainy Lullaby\n",
       "113997           Cesária Evora\n",
       "113998        Michael W. Smith\n",
       "113999           Cesária Evora\n",
       "\n",
       "[114000 rows x 1 columns]"
      ]
     },
     "execution_count": 11,
     "metadata": {},
     "output_type": "execute_result"
    }
   ],
   "source": [
    "#How many unique artists are there\n",
    "artists = df[['artists']]\n",
    "artists"
   ]
  },
  {
   "cell_type": "code",
   "execution_count": 12,
   "id": "9ab9b5c0",
   "metadata": {},
   "outputs": [
    {
     "data": {
      "text/plain": [
       "array(['acoustic', 'afrobeat', 'alt-rock', 'alternative', 'ambient',\n",
       "       'anime', 'black-metal', 'bluegrass', 'blues', 'brazil',\n",
       "       'breakbeat', 'british', 'cantopop', 'chicago-house', 'children',\n",
       "       'chill', 'classical', 'club', 'comedy', 'country', 'dance',\n",
       "       'dancehall', 'death-metal', 'deep-house', 'detroit-techno',\n",
       "       'disco', 'disney', 'drum-and-bass', 'dub', 'dubstep', 'edm',\n",
       "       'electro', 'electronic', 'emo', 'folk', 'forro', 'french', 'funk',\n",
       "       'garage', 'german', 'gospel', 'goth', 'grindcore', 'groove',\n",
       "       'grunge', 'guitar', 'happy', 'hard-rock', 'hardcore', 'hardstyle',\n",
       "       'heavy-metal', 'hip-hop', 'honky-tonk', 'house', 'idm', 'indian',\n",
       "       'indie-pop', 'indie', 'industrial', 'iranian', 'j-dance', 'j-idol',\n",
       "       'j-pop', 'j-rock', 'jazz', 'k-pop', 'kids', 'latin', 'latino',\n",
       "       'malay', 'mandopop', 'metal', 'metalcore', 'minimal-techno', 'mpb',\n",
       "       'new-age', 'opera', 'pagode', 'party', 'piano', 'pop-film', 'pop',\n",
       "       'power-pop', 'progressive-house', 'psych-rock', 'punk-rock',\n",
       "       'punk', 'r-n-b', 'reggae', 'reggaeton', 'rock-n-roll', 'rock',\n",
       "       'rockabilly', 'romance', 'sad', 'salsa', 'samba', 'sertanejo',\n",
       "       'show-tunes', 'singer-songwriter', 'ska', 'sleep', 'songwriter',\n",
       "       'soul', 'spanish', 'study', 'swedish', 'synth-pop', 'tango',\n",
       "       'techno', 'trance', 'trip-hop', 'turkish', 'world-music'],\n",
       "      dtype=object)"
      ]
     },
     "execution_count": 12,
     "metadata": {},
     "output_type": "execute_result"
    }
   ],
   "source": [
    "#Preview of all the genres, out of interest\n",
    "df['track_genre'].unique()"
   ]
  },
  {
   "cell_type": "code",
   "execution_count": 13,
   "id": "4f07b4ca",
   "metadata": {},
   "outputs": [
    {
     "data": {
      "text/plain": [
       "artists                 \n",
       "The Beatles                 279\n",
       "George Jones                271\n",
       "Stevie Wonder               236\n",
       "Linkin Park                 224\n",
       "Ella Fitzgerald             222\n",
       "                           ... \n",
       "Mother Love Bone              1\n",
       "DubVision;Afrojack            1\n",
       "Dub Pistols;Too Many T's      1\n",
       "Mothership                    1\n",
       "DJ Mongoose                   1\n",
       "Length: 31437, dtype: int64"
      ]
     },
     "execution_count": 13,
     "metadata": {},
     "output_type": "execute_result"
    }
   ],
   "source": [
    "# Most frequently seen artist in df\n",
    "artists.value_counts()"
   ]
  },
  {
   "cell_type": "markdown",
   "id": "957ebae8",
   "metadata": {},
   "source": [
    "*OK - Explicit content exploration.*\n",
    "Covering the following: \n",
    "1. Total tracks : 114000\n",
    "2. Total tracks that are explicit : 9747\n",
    "3. Total percent of tracks that are explicit: 8.55%\n",
    "4. Total percent of tracks that are explicit by genre: under the variable most_explicit_order as a series\n",
    "5. Most explicit genre: Comedy (with 65.6% of tracks being explicit)\n",
    "6. How many genres have no instances of being explicit in the df: 8\n",
    "7. List of genres that have no instances of being explicit: ['children', 'classical', 'gospel', 'honky-tonk', 'sleep', 'study','tango', 'world-music']\n",
    "8. List of genres that are more explicit than total across all genres (bonus if you can be arsed to graph em) "
   ]
  },
  {
   "cell_type": "code",
   "execution_count": 14,
   "id": "20d14ccb",
   "metadata": {},
   "outputs": [
    {
     "data": {
      "text/plain": [
       "(114000, 21)"
      ]
     },
     "execution_count": 14,
     "metadata": {},
     "output_type": "execute_result"
    }
   ],
   "source": [
    "#1. \n",
    "\n",
    "#How many tracks are there in total\n",
    "df.shape"
   ]
  },
  {
   "cell_type": "code",
   "execution_count": 109,
   "id": "f226ad92",
   "metadata": {},
   "outputs": [
    {
     "data": {
      "text/plain": [
       "9747"
      ]
     },
     "execution_count": 109,
     "metadata": {},
     "output_type": "execute_result"
    }
   ],
   "source": [
    "# Markus Version of Bla\n",
    "df['explicit'].value_counts()[True]"
   ]
  },
  {
   "cell_type": "code",
   "execution_count": 110,
   "id": "44e14e9d",
   "metadata": {},
   "outputs": [
    {
     "data": {
      "text/plain": [
       "False    104253\n",
       "True       9747\n",
       "Name: explicit, dtype: int64"
      ]
     },
     "execution_count": 110,
     "metadata": {},
     "output_type": "execute_result"
    }
   ],
   "source": [
    "# Markus Version of Bla\n",
    "df['explicit'].value_counts()"
   ]
  },
  {
   "cell_type": "code",
   "execution_count": 115,
   "id": "7cf0a27f",
   "metadata": {},
   "outputs": [
    {
     "data": {
      "text/plain": [
       "9747"
      ]
     },
     "execution_count": 115,
     "metadata": {},
     "output_type": "execute_result"
    }
   ],
   "source": [
    "#2.\n",
    "\n",
    "#How many tracks are explicit\n",
    "filt = df['explicit'] == True\n",
    "explicit = df.loc[filt, 'explicit']\n",
    "count_explicit = explicit.value_counts().item()\n",
    "count_explicit"
   ]
  },
  {
   "cell_type": "code",
   "execution_count": 120,
   "id": "a2496794",
   "metadata": {},
   "outputs": [
    {
     "data": {
      "text/plain": [
       "8.55"
      ]
     },
     "execution_count": 120,
     "metadata": {},
     "output_type": "execute_result"
    }
   ],
   "source": [
    "#3.\n",
    "\n",
    "#Total percent of tracks that are explicit\n",
    "total_percent_explicit = (count_explicit / df_count) * 100\n",
    "#total_percent_explicit.dtype\n",
    "total_percent_explicit"
   ]
  },
  {
   "cell_type": "markdown",
   "id": "6c5b856d",
   "metadata": {},
   "source": [
    "How many tracks are explicit compared to the total amount - percentage"
   ]
  },
  {
   "cell_type": "code",
   "execution_count": 17,
   "id": "766f7194",
   "metadata": {},
   "outputs": [],
   "source": [
    "#create a filter to pull only rows that are counted as explicit\n",
    "only_explicit = df.loc[filt]"
   ]
  },
  {
   "cell_type": "code",
   "execution_count": 147,
   "id": "3c62d007",
   "metadata": {},
   "outputs": [
    {
     "data": {
      "text/html": [
       "<div>\n",
       "<style scoped>\n",
       "    .dataframe tbody tr th:only-of-type {\n",
       "        vertical-align: middle;\n",
       "    }\n",
       "\n",
       "    .dataframe tbody tr th {\n",
       "        vertical-align: top;\n",
       "    }\n",
       "\n",
       "    .dataframe thead th {\n",
       "        text-align: right;\n",
       "    }\n",
       "</style>\n",
       "<table border=\"1\" class=\"dataframe\">\n",
       "  <thead>\n",
       "    <tr style=\"text-align: right;\">\n",
       "      <th></th>\n",
       "      <th>Unnamed: 0</th>\n",
       "      <th>track_id</th>\n",
       "      <th>artists</th>\n",
       "      <th>album_name</th>\n",
       "      <th>track_name</th>\n",
       "      <th>popularity</th>\n",
       "      <th>duration_ms</th>\n",
       "      <th>explicit</th>\n",
       "      <th>danceability</th>\n",
       "      <th>energy</th>\n",
       "      <th>key</th>\n",
       "      <th>loudness</th>\n",
       "      <th>mode</th>\n",
       "      <th>speechiness</th>\n",
       "      <th>acousticness</th>\n",
       "      <th>instrumentalness</th>\n",
       "      <th>liveness</th>\n",
       "      <th>valence</th>\n",
       "      <th>tempo</th>\n",
       "      <th>time_signature</th>\n",
       "      <th>track_genre</th>\n",
       "    </tr>\n",
       "  </thead>\n",
       "  <tbody>\n",
       "    <tr>\n",
       "      <th>0</th>\n",
       "      <td>0</td>\n",
       "      <td>5SuOikwiRyPMVoIQDJUgSV</td>\n",
       "      <td>Gen Hoshino</td>\n",
       "      <td>Comedy</td>\n",
       "      <td>Comedy</td>\n",
       "      <td>73</td>\n",
       "      <td>230666</td>\n",
       "      <td>False</td>\n",
       "      <td>0.676</td>\n",
       "      <td>0.4610</td>\n",
       "      <td>1</td>\n",
       "      <td>-6.746</td>\n",
       "      <td>0</td>\n",
       "      <td>0.1430</td>\n",
       "      <td>0.03220</td>\n",
       "      <td>0.000001</td>\n",
       "      <td>0.3580</td>\n",
       "      <td>0.7150</td>\n",
       "      <td>87.917</td>\n",
       "      <td>4</td>\n",
       "      <td>acoustic</td>\n",
       "    </tr>\n",
       "    <tr>\n",
       "      <th>1</th>\n",
       "      <td>1</td>\n",
       "      <td>4qPNDBW1i3p13qLCt0Ki3A</td>\n",
       "      <td>Ben Woodward</td>\n",
       "      <td>Ghost (Acoustic)</td>\n",
       "      <td>Ghost - Acoustic</td>\n",
       "      <td>55</td>\n",
       "      <td>149610</td>\n",
       "      <td>False</td>\n",
       "      <td>0.420</td>\n",
       "      <td>0.1660</td>\n",
       "      <td>1</td>\n",
       "      <td>-17.235</td>\n",
       "      <td>1</td>\n",
       "      <td>0.0763</td>\n",
       "      <td>0.92400</td>\n",
       "      <td>0.000006</td>\n",
       "      <td>0.1010</td>\n",
       "      <td>0.2670</td>\n",
       "      <td>77.489</td>\n",
       "      <td>4</td>\n",
       "      <td>acoustic</td>\n",
       "    </tr>\n",
       "    <tr>\n",
       "      <th>2</th>\n",
       "      <td>2</td>\n",
       "      <td>1iJBSr7s7jYXzM8EGcbK5b</td>\n",
       "      <td>Ingrid Michaelson;ZAYN</td>\n",
       "      <td>To Begin Again</td>\n",
       "      <td>To Begin Again</td>\n",
       "      <td>57</td>\n",
       "      <td>210826</td>\n",
       "      <td>False</td>\n",
       "      <td>0.438</td>\n",
       "      <td>0.3590</td>\n",
       "      <td>0</td>\n",
       "      <td>-9.734</td>\n",
       "      <td>1</td>\n",
       "      <td>0.0557</td>\n",
       "      <td>0.21000</td>\n",
       "      <td>0.000000</td>\n",
       "      <td>0.1170</td>\n",
       "      <td>0.1200</td>\n",
       "      <td>76.332</td>\n",
       "      <td>4</td>\n",
       "      <td>acoustic</td>\n",
       "    </tr>\n",
       "    <tr>\n",
       "      <th>3</th>\n",
       "      <td>3</td>\n",
       "      <td>6lfxq3CG4xtTiEg7opyCyx</td>\n",
       "      <td>Kina Grannis</td>\n",
       "      <td>Crazy Rich Asians (Original Motion Picture Sou...</td>\n",
       "      <td>Can't Help Falling In Love</td>\n",
       "      <td>71</td>\n",
       "      <td>201933</td>\n",
       "      <td>False</td>\n",
       "      <td>0.266</td>\n",
       "      <td>0.0596</td>\n",
       "      <td>0</td>\n",
       "      <td>-18.515</td>\n",
       "      <td>1</td>\n",
       "      <td>0.0363</td>\n",
       "      <td>0.90500</td>\n",
       "      <td>0.000071</td>\n",
       "      <td>0.1320</td>\n",
       "      <td>0.1430</td>\n",
       "      <td>181.740</td>\n",
       "      <td>3</td>\n",
       "      <td>acoustic</td>\n",
       "    </tr>\n",
       "    <tr>\n",
       "      <th>4</th>\n",
       "      <td>4</td>\n",
       "      <td>5vjLSffimiIP26QG5WcN2K</td>\n",
       "      <td>Chord Overstreet</td>\n",
       "      <td>Hold On</td>\n",
       "      <td>Hold On</td>\n",
       "      <td>82</td>\n",
       "      <td>198853</td>\n",
       "      <td>False</td>\n",
       "      <td>0.618</td>\n",
       "      <td>0.4430</td>\n",
       "      <td>2</td>\n",
       "      <td>-9.681</td>\n",
       "      <td>1</td>\n",
       "      <td>0.0526</td>\n",
       "      <td>0.46900</td>\n",
       "      <td>0.000000</td>\n",
       "      <td>0.0829</td>\n",
       "      <td>0.1670</td>\n",
       "      <td>119.949</td>\n",
       "      <td>4</td>\n",
       "      <td>acoustic</td>\n",
       "    </tr>\n",
       "    <tr>\n",
       "      <th>...</th>\n",
       "      <td>...</td>\n",
       "      <td>...</td>\n",
       "      <td>...</td>\n",
       "      <td>...</td>\n",
       "      <td>...</td>\n",
       "      <td>...</td>\n",
       "      <td>...</td>\n",
       "      <td>...</td>\n",
       "      <td>...</td>\n",
       "      <td>...</td>\n",
       "      <td>...</td>\n",
       "      <td>...</td>\n",
       "      <td>...</td>\n",
       "      <td>...</td>\n",
       "      <td>...</td>\n",
       "      <td>...</td>\n",
       "      <td>...</td>\n",
       "      <td>...</td>\n",
       "      <td>...</td>\n",
       "      <td>...</td>\n",
       "      <td>...</td>\n",
       "    </tr>\n",
       "    <tr>\n",
       "      <th>113005</th>\n",
       "      <td>113005</td>\n",
       "      <td>40lKptao1hxVqA7fd1OOGp</td>\n",
       "      <td>Chris Tomlin</td>\n",
       "      <td>And If Our God Is For Us...</td>\n",
       "      <td>Our God</td>\n",
       "      <td>63</td>\n",
       "      <td>285160</td>\n",
       "      <td>False</td>\n",
       "      <td>0.509</td>\n",
       "      <td>0.7780</td>\n",
       "      <td>11</td>\n",
       "      <td>-3.608</td>\n",
       "      <td>1</td>\n",
       "      <td>0.0295</td>\n",
       "      <td>0.00998</td>\n",
       "      <td>0.000000</td>\n",
       "      <td>0.1900</td>\n",
       "      <td>0.2160</td>\n",
       "      <td>105.066</td>\n",
       "      <td>4</td>\n",
       "      <td>world-music</td>\n",
       "    </tr>\n",
       "    <tr>\n",
       "      <th>113006</th>\n",
       "      <td>113006</td>\n",
       "      <td>6aRwLqDf1bN3lI2gMd6wXp</td>\n",
       "      <td>Passion;Kristian Stanfill</td>\n",
       "      <td>Passion: Let The Future Begin</td>\n",
       "      <td>In Christ Alone - Live</td>\n",
       "      <td>57</td>\n",
       "      <td>339493</td>\n",
       "      <td>False</td>\n",
       "      <td>0.378</td>\n",
       "      <td>0.5960</td>\n",
       "      <td>5</td>\n",
       "      <td>-5.406</td>\n",
       "      <td>1</td>\n",
       "      <td>0.0323</td>\n",
       "      <td>0.01820</td>\n",
       "      <td>0.000011</td>\n",
       "      <td>0.1440</td>\n",
       "      <td>0.1720</td>\n",
       "      <td>135.968</td>\n",
       "      <td>3</td>\n",
       "      <td>world-music</td>\n",
       "    </tr>\n",
       "    <tr>\n",
       "      <th>113007</th>\n",
       "      <td>113007</td>\n",
       "      <td>1QoQC9g6R0K1SrPQifxaWB</td>\n",
       "      <td>Hillsong Worship;Brooke Ligertwood</td>\n",
       "      <td>Who You Say I Am</td>\n",
       "      <td>Who You Say I Am</td>\n",
       "      <td>56</td>\n",
       "      <td>198704</td>\n",
       "      <td>False</td>\n",
       "      <td>0.377</td>\n",
       "      <td>0.6440</td>\n",
       "      <td>6</td>\n",
       "      <td>-8.139</td>\n",
       "      <td>1</td>\n",
       "      <td>0.0404</td>\n",
       "      <td>0.00410</td>\n",
       "      <td>0.000000</td>\n",
       "      <td>0.0890</td>\n",
       "      <td>0.2990</td>\n",
       "      <td>171.908</td>\n",
       "      <td>3</td>\n",
       "      <td>world-music</td>\n",
       "    </tr>\n",
       "    <tr>\n",
       "      <th>113008</th>\n",
       "      <td>113008</td>\n",
       "      <td>4ElNxglBjcrASiGn58t9Jm</td>\n",
       "      <td>for KING &amp; COUNTRY</td>\n",
       "      <td>Burn The Ships</td>\n",
       "      <td>God Only Knows</td>\n",
       "      <td>64</td>\n",
       "      <td>229760</td>\n",
       "      <td>False</td>\n",
       "      <td>0.597</td>\n",
       "      <td>0.4170</td>\n",
       "      <td>2</td>\n",
       "      <td>-7.952</td>\n",
       "      <td>1</td>\n",
       "      <td>0.0502</td>\n",
       "      <td>0.39500</td>\n",
       "      <td>0.000008</td>\n",
       "      <td>0.1280</td>\n",
       "      <td>0.2630</td>\n",
       "      <td>143.839</td>\n",
       "      <td>4</td>\n",
       "      <td>world-music</td>\n",
       "    </tr>\n",
       "    <tr>\n",
       "      <th>113009</th>\n",
       "      <td>113009</td>\n",
       "      <td>35WtFQK3iG2WPjstuuKaVc</td>\n",
       "      <td>Hillsong Worship;TAYA</td>\n",
       "      <td>No Other Name</td>\n",
       "      <td>Broken Vessels (Amazing Grace)</td>\n",
       "      <td>63</td>\n",
       "      <td>568791</td>\n",
       "      <td>False</td>\n",
       "      <td>0.379</td>\n",
       "      <td>0.4890</td>\n",
       "      <td>7</td>\n",
       "      <td>-7.051</td>\n",
       "      <td>1</td>\n",
       "      <td>0.0281</td>\n",
       "      <td>0.29300</td>\n",
       "      <td>0.000009</td>\n",
       "      <td>0.7210</td>\n",
       "      <td>0.0871</td>\n",
       "      <td>140.937</td>\n",
       "      <td>4</td>\n",
       "      <td>world-music</td>\n",
       "    </tr>\n",
       "  </tbody>\n",
       "</table>\n",
       "<p>1140 rows × 21 columns</p>\n",
       "</div>"
      ],
      "text/plain": [
       "        Unnamed: 0                track_id  \\\n",
       "0                0  5SuOikwiRyPMVoIQDJUgSV   \n",
       "1                1  4qPNDBW1i3p13qLCt0Ki3A   \n",
       "2                2  1iJBSr7s7jYXzM8EGcbK5b   \n",
       "3                3  6lfxq3CG4xtTiEg7opyCyx   \n",
       "4                4  5vjLSffimiIP26QG5WcN2K   \n",
       "...            ...                     ...   \n",
       "113005      113005  40lKptao1hxVqA7fd1OOGp   \n",
       "113006      113006  6aRwLqDf1bN3lI2gMd6wXp   \n",
       "113007      113007  1QoQC9g6R0K1SrPQifxaWB   \n",
       "113008      113008  4ElNxglBjcrASiGn58t9Jm   \n",
       "113009      113009  35WtFQK3iG2WPjstuuKaVc   \n",
       "\n",
       "                                   artists  \\\n",
       "0                              Gen Hoshino   \n",
       "1                             Ben Woodward   \n",
       "2                   Ingrid Michaelson;ZAYN   \n",
       "3                             Kina Grannis   \n",
       "4                         Chord Overstreet   \n",
       "...                                    ...   \n",
       "113005                        Chris Tomlin   \n",
       "113006           Passion;Kristian Stanfill   \n",
       "113007  Hillsong Worship;Brooke Ligertwood   \n",
       "113008                  for KING & COUNTRY   \n",
       "113009               Hillsong Worship;TAYA   \n",
       "\n",
       "                                               album_name  \\\n",
       "0                                                  Comedy   \n",
       "1                                        Ghost (Acoustic)   \n",
       "2                                          To Begin Again   \n",
       "3       Crazy Rich Asians (Original Motion Picture Sou...   \n",
       "4                                                 Hold On   \n",
       "...                                                   ...   \n",
       "113005                        And If Our God Is For Us...   \n",
       "113006                      Passion: Let The Future Begin   \n",
       "113007                                   Who You Say I Am   \n",
       "113008                                     Burn The Ships   \n",
       "113009                                      No Other Name   \n",
       "\n",
       "                            track_name  popularity  duration_ms  explicit  \\\n",
       "0                               Comedy          73       230666     False   \n",
       "1                     Ghost - Acoustic          55       149610     False   \n",
       "2                       To Begin Again          57       210826     False   \n",
       "3           Can't Help Falling In Love          71       201933     False   \n",
       "4                              Hold On          82       198853     False   \n",
       "...                                ...         ...          ...       ...   \n",
       "113005                         Our God          63       285160     False   \n",
       "113006          In Christ Alone - Live          57       339493     False   \n",
       "113007                Who You Say I Am          56       198704     False   \n",
       "113008                  God Only Knows          64       229760     False   \n",
       "113009  Broken Vessels (Amazing Grace)          63       568791     False   \n",
       "\n",
       "        danceability  energy  key  loudness  mode  speechiness  acousticness  \\\n",
       "0              0.676  0.4610    1    -6.746     0       0.1430       0.03220   \n",
       "1              0.420  0.1660    1   -17.235     1       0.0763       0.92400   \n",
       "2              0.438  0.3590    0    -9.734     1       0.0557       0.21000   \n",
       "3              0.266  0.0596    0   -18.515     1       0.0363       0.90500   \n",
       "4              0.618  0.4430    2    -9.681     1       0.0526       0.46900   \n",
       "...              ...     ...  ...       ...   ...          ...           ...   \n",
       "113005         0.509  0.7780   11    -3.608     1       0.0295       0.00998   \n",
       "113006         0.378  0.5960    5    -5.406     1       0.0323       0.01820   \n",
       "113007         0.377  0.6440    6    -8.139     1       0.0404       0.00410   \n",
       "113008         0.597  0.4170    2    -7.952     1       0.0502       0.39500   \n",
       "113009         0.379  0.4890    7    -7.051     1       0.0281       0.29300   \n",
       "\n",
       "        instrumentalness  liveness  valence    tempo  time_signature  \\\n",
       "0               0.000001    0.3580   0.7150   87.917               4   \n",
       "1               0.000006    0.1010   0.2670   77.489               4   \n",
       "2               0.000000    0.1170   0.1200   76.332               4   \n",
       "3               0.000071    0.1320   0.1430  181.740               3   \n",
       "4               0.000000    0.0829   0.1670  119.949               4   \n",
       "...                  ...       ...      ...      ...             ...   \n",
       "113005          0.000000    0.1900   0.2160  105.066               4   \n",
       "113006          0.000011    0.1440   0.1720  135.968               3   \n",
       "113007          0.000000    0.0890   0.2990  171.908               3   \n",
       "113008          0.000008    0.1280   0.2630  143.839               4   \n",
       "113009          0.000009    0.7210   0.0871  140.937               4   \n",
       "\n",
       "        track_genre  \n",
       "0          acoustic  \n",
       "1          acoustic  \n",
       "2          acoustic  \n",
       "3          acoustic  \n",
       "4          acoustic  \n",
       "...             ...  \n",
       "113005  world-music  \n",
       "113006  world-music  \n",
       "113007  world-music  \n",
       "113008  world-music  \n",
       "113009  world-music  \n",
       "\n",
       "[1140 rows x 21 columns]"
      ]
     },
     "execution_count": 147,
     "metadata": {},
     "output_type": "execute_result"
    }
   ],
   "source": [
    "#Make 2 groupbys, one is for grouping by genre, one is for grouping by genre with the explicit only filter\n",
    "\n",
    "groupby_genre = df.groupby(['track_genre'])\n",
    "explicit_groupby_genre = only_explicit.groupby(['track_genre'])\n",
    "groupby_genre.head(10)"
   ]
  },
  {
   "cell_type": "code",
   "execution_count": 19,
   "id": "21843a57",
   "metadata": {
    "scrolled": true
   },
   "outputs": [
    {
     "data": {
      "text/plain": [
       "track_genre\n",
       "acoustic             1000\n",
       "punk                 1000\n",
       "progressive-house    1000\n",
       "power-pop            1000\n",
       "pop-film             1000\n",
       "                     ... \n",
       "folk                 1000\n",
       "emo                  1000\n",
       "electronic           1000\n",
       "electro              1000\n",
       "world-music          1000\n",
       "Length: 114, dtype: int64"
      ]
     },
     "execution_count": 19,
     "metadata": {},
     "output_type": "execute_result"
    }
   ],
   "source": [
    "track_count_by_genre = groupby_genre.size()\n",
    "track_count_by_genre.sort_values(ascending = False)"
   ]
  },
  {
   "cell_type": "code",
   "execution_count": 20,
   "id": "797741f6",
   "metadata": {},
   "outputs": [
    {
     "data": {
      "text/plain": [
       "track_genre\n",
       "comedy      656\n",
       "emo         465\n",
       "sad         450\n",
       "j-dance     391\n",
       "hardcore    325\n",
       "           ... \n",
       "cantopop      2\n",
       "opera         1\n",
       "disney        1\n",
       "pop-film      1\n",
       "j-idol        1\n",
       "Length: 106, dtype: int64"
      ]
     },
     "execution_count": 20,
     "metadata": {},
     "output_type": "execute_result"
    }
   ],
   "source": [
    "explicit_track_count_by_genre = explicit_groupby_genre.size()\n",
    "explicit_track_count_by_genre.sort_values(ascending = False)"
   ]
  },
  {
   "cell_type": "code",
   "execution_count": 21,
   "id": "5ab43391",
   "metadata": {},
   "outputs": [
    {
     "data": {
      "text/plain": [
       "track_genre  explicit\n",
       "acoustic     False        948\n",
       "             True          52\n",
       "afrobeat     False        982\n",
       "             True          18\n",
       "alt-rock     False        944\n",
       "                         ... \n",
       "trip-hop     False        955\n",
       "             True          45\n",
       "turkish      False        782\n",
       "             True         218\n",
       "world-music  False       1000\n",
       "Name: explicit, Length: 220, dtype: int64"
      ]
     },
     "execution_count": 21,
     "metadata": {},
     "output_type": "execute_result"
    }
   ],
   "source": [
    "#This\n",
    "df.groupby(['track_genre', 'explicit']).size()\n",
    "#and this\n",
    "explicit_by_genre = groupby_genre['explicit'].value_counts()\n",
    "explicit_by_genre\n",
    "#seem to serve the same purpose, except 2nd one hasa variable"
   ]
  },
  {
   "cell_type": "markdown",
   "id": "2b85b3fc",
   "metadata": {},
   "source": [
    "So now I knw the most explicit is comedy, and the many least are tango, sleep etc. "
   ]
  },
  {
   "cell_type": "code",
   "execution_count": 22,
   "id": "631c204f",
   "metadata": {
    "collapsed": true
   },
   "outputs": [
    {
     "data": {
      "text/plain": [
       "track_genre\n",
       "comedy         65.6\n",
       "emo            46.5\n",
       "sad            45.0\n",
       "j-dance        39.1\n",
       "hardcore       32.5\n",
       "hip-hop        31.9\n",
       "funk           30.4\n",
       "dancehall      30.2\n",
       "metalcore      29.1\n",
       "death-metal    25.1\n",
       "latino         24.9\n",
       "industrial     23.6\n",
       "french         21.9\n",
       "turkish        21.8\n",
       "reggaeton      21.2\n",
       "dance          17.4\n",
       "chill          17.1\n",
       "reggae         16.7\n",
       "alternative    16.4\n",
       "electro        15.3\n",
       "grindcore      15.3\n",
       "metal          14.2\n",
       "latin          13.3\n",
       "black-metal    13.1\n",
       "german         12.7\n",
       "happy          12.6\n",
       "electronic     12.0\n",
       "house          10.7\n",
       "indie-pop      10.7\n",
       "edm            10.6\n",
       "punk           10.6\n",
       "soul           10.4\n",
       "groove          9.7\n",
       "hardstyle       9.6\n",
       "swedish         9.5\n",
       "dubstep         9.5\n",
       "garage          9.5\n",
       "r-n-b           8.8\n",
       "brazil          8.6\n",
       "club            8.5\n",
       "indie           8.4\n",
       "heavy-metal     8.3\n",
       "iranian         8.0\n",
       "punk-rock       8.0\n",
       "pop             7.4\n",
       "dub             7.4\n",
       "grunge          7.2\n",
       "goth            6.6\n",
       "alt-rock        5.6\n",
       "anime           5.5\n",
       "dtype: float64"
      ]
     },
     "execution_count": 22,
     "metadata": {},
     "output_type": "execute_result"
    }
   ],
   "source": [
    "#4.\n",
    "\n",
    "#Total percent of tracks that are explicit by genre\n",
    "\n",
    "explicit_percent = explicit_track_count_by_genre / track_count_by_genre * 100\n",
    "most_explicit_order = explicit_percent.sort_values(ascending = False)\n",
    "most_explicit_order.head(50)"
   ]
  },
  {
   "cell_type": "code",
   "execution_count": 23,
   "id": "232fa1af",
   "metadata": {},
   "outputs": [
    {
     "data": {
      "text/plain": [
       "dtype('float64')"
      ]
     },
     "execution_count": 23,
     "metadata": {},
     "output_type": "execute_result"
    }
   ],
   "source": [
    "most_explicit_order.dtype"
   ]
  },
  {
   "cell_type": "code",
   "execution_count": 24,
   "id": "4cf02c84",
   "metadata": {},
   "outputs": [
    {
     "name": "stdout",
     "output_type": "stream",
     "text": [
      "The most explicit genre has a 65.60000000000001 % likelihood of being explicit and it is comedy\n"
     ]
    }
   ],
   "source": [
    "#5. \n",
    "\n",
    "#Most explicit genre\n",
    "\n",
    "print('The most explicit genre has a', most_explicit_order[0], '% likelihood of being explicit', 'and it is', most_explicit_order.index[0])"
   ]
  },
  {
   "cell_type": "code",
   "execution_count": 28,
   "id": "78a87fb9",
   "metadata": {
    "scrolled": true
   },
   "outputs": [
    {
     "data": {
      "text/plain": [
       "track_genre\n",
       "comedy         False\n",
       "emo            False\n",
       "sad            False\n",
       "j-dance        False\n",
       "hardcore       False\n",
       "               ...  \n",
       "honky-tonk      True\n",
       "sleep           True\n",
       "study           True\n",
       "tango           True\n",
       "world-music     True\n",
       "Length: 114, dtype: bool"
      ]
     },
     "execution_count": 28,
     "metadata": {},
     "output_type": "execute_result"
    }
   ],
   "source": [
    "#6. \n",
    "\n",
    "#How many genres have no instances of being explicit\n",
    "num_nan = most_explicit_order.isnull()\n",
    "#num_nan = most_explicit_order.isnull().sum()\n",
    "num_nan"
   ]
  },
  {
   "cell_type": "code",
   "execution_count": 26,
   "id": "e3b8d688",
   "metadata": {},
   "outputs": [
    {
     "data": {
      "text/plain": [
       "Index(['comedy', 'emo', 'sad', 'j-dance', 'hardcore', 'hip-hop', 'funk',\n",
       "       'dancehall', 'metalcore', 'death-metal',\n",
       "       ...\n",
       "       'pop-film', 'j-idol', 'children', 'classical', 'gospel', 'honky-tonk',\n",
       "       'sleep', 'study', 'tango', 'world-music'],\n",
       "      dtype='object', name='track_genre', length=114)"
      ]
     },
     "execution_count": 26,
     "metadata": {},
     "output_type": "execute_result"
    }
   ],
   "source": [
    "most_explicit_order.index"
   ]
  },
  {
   "cell_type": "code",
   "execution_count": 29,
   "id": "c3bcb9a8",
   "metadata": {},
   "outputs": [
    {
     "data": {
      "text/plain": [
       "Index(['children', 'classical', 'gospel', 'honky-tonk', 'sleep', 'study',\n",
       "       'tango', 'world-music'],\n",
       "      dtype='object', name='track_genre')"
      ]
     },
     "execution_count": 29,
     "metadata": {},
     "output_type": "execute_result"
    }
   ],
   "source": [
    "#7.\n",
    "\n",
    "#And which ones are they? \n",
    "non_explicit_genres = most_explicit_order.loc[num_nan].index\n",
    "non_explicit_genres"
   ]
  },
  {
   "cell_type": "code",
   "execution_count": 149,
   "id": "7f3c229f",
   "metadata": {},
   "outputs": [
    {
     "data": {
      "text/html": [
       "<div>\n",
       "<style scoped>\n",
       "    .dataframe tbody tr th:only-of-type {\n",
       "        vertical-align: middle;\n",
       "    }\n",
       "\n",
       "    .dataframe tbody tr th {\n",
       "        vertical-align: top;\n",
       "    }\n",
       "\n",
       "    .dataframe thead th {\n",
       "        text-align: right;\n",
       "    }\n",
       "</style>\n",
       "<table border=\"1\" class=\"dataframe\">\n",
       "  <thead>\n",
       "    <tr style=\"text-align: right;\">\n",
       "      <th></th>\n",
       "      <th>track_genre</th>\n",
       "      <th>percent</th>\n",
       "    </tr>\n",
       "  </thead>\n",
       "  <tbody>\n",
       "    <tr>\n",
       "      <th>0</th>\n",
       "      <td>comedy</td>\n",
       "      <td>65.6</td>\n",
       "    </tr>\n",
       "    <tr>\n",
       "      <th>1</th>\n",
       "      <td>emo</td>\n",
       "      <td>46.5</td>\n",
       "    </tr>\n",
       "    <tr>\n",
       "      <th>2</th>\n",
       "      <td>sad</td>\n",
       "      <td>45.0</td>\n",
       "    </tr>\n",
       "    <tr>\n",
       "      <th>3</th>\n",
       "      <td>j-dance</td>\n",
       "      <td>39.1</td>\n",
       "    </tr>\n",
       "    <tr>\n",
       "      <th>4</th>\n",
       "      <td>hardcore</td>\n",
       "      <td>32.5</td>\n",
       "    </tr>\n",
       "    <tr>\n",
       "      <th>...</th>\n",
       "      <td>...</td>\n",
       "      <td>...</td>\n",
       "    </tr>\n",
       "    <tr>\n",
       "      <th>109</th>\n",
       "      <td>honky-tonk</td>\n",
       "      <td>NaN</td>\n",
       "    </tr>\n",
       "    <tr>\n",
       "      <th>110</th>\n",
       "      <td>sleep</td>\n",
       "      <td>NaN</td>\n",
       "    </tr>\n",
       "    <tr>\n",
       "      <th>111</th>\n",
       "      <td>study</td>\n",
       "      <td>NaN</td>\n",
       "    </tr>\n",
       "    <tr>\n",
       "      <th>112</th>\n",
       "      <td>tango</td>\n",
       "      <td>NaN</td>\n",
       "    </tr>\n",
       "    <tr>\n",
       "      <th>113</th>\n",
       "      <td>world-music</td>\n",
       "      <td>NaN</td>\n",
       "    </tr>\n",
       "  </tbody>\n",
       "</table>\n",
       "<p>114 rows × 2 columns</p>\n",
       "</div>"
      ],
      "text/plain": [
       "     track_genre  percent\n",
       "0         comedy     65.6\n",
       "1            emo     46.5\n",
       "2            sad     45.0\n",
       "3        j-dance     39.1\n",
       "4       hardcore     32.5\n",
       "..           ...      ...\n",
       "109   honky-tonk      NaN\n",
       "110        sleep      NaN\n",
       "111        study      NaN\n",
       "112        tango      NaN\n",
       "113  world-music      NaN\n",
       "\n",
       "[114 rows x 2 columns]"
      ]
     },
     "execution_count": 149,
     "metadata": {},
     "output_type": "execute_result"
    }
   ],
   "source": [
    "#8.\n",
    "\n",
    "#And lastly - which genres are more explicit and less explicit than the average of 8.5%?\n",
    "\n",
    "# variable with the average = total_percent_explicit \n",
    "# series with percents = most_explicit_order\n",
    "\n",
    "\n",
    "df_genre_percent = pd.DataFrame(most_explicit_order, columns = (['percent']))\n",
    "df_genre_percent.reset_index(inplace = True)\n",
    "\n",
    "df_genre_percent"
   ]
  },
  {
   "cell_type": "code",
   "execution_count": 76,
   "id": "6a0abba9",
   "metadata": {},
   "outputs": [
    {
     "data": {
      "text/html": [
       "<div>\n",
       "<style scoped>\n",
       "    .dataframe tbody tr th:only-of-type {\n",
       "        vertical-align: middle;\n",
       "    }\n",
       "\n",
       "    .dataframe tbody tr th {\n",
       "        vertical-align: top;\n",
       "    }\n",
       "\n",
       "    .dataframe thead th {\n",
       "        text-align: right;\n",
       "    }\n",
       "</style>\n",
       "<table border=\"1\" class=\"dataframe\">\n",
       "  <thead>\n",
       "    <tr style=\"text-align: right;\">\n",
       "      <th></th>\n",
       "      <th>track_genre</th>\n",
       "      <th>percent</th>\n",
       "    </tr>\n",
       "  </thead>\n",
       "  <tbody>\n",
       "    <tr>\n",
       "      <th>0</th>\n",
       "      <td>comedy</td>\n",
       "      <td>65.6</td>\n",
       "    </tr>\n",
       "    <tr>\n",
       "      <th>1</th>\n",
       "      <td>emo</td>\n",
       "      <td>46.5</td>\n",
       "    </tr>\n",
       "    <tr>\n",
       "      <th>2</th>\n",
       "      <td>sad</td>\n",
       "      <td>45.0</td>\n",
       "    </tr>\n",
       "    <tr>\n",
       "      <th>3</th>\n",
       "      <td>j-dance</td>\n",
       "      <td>39.1</td>\n",
       "    </tr>\n",
       "    <tr>\n",
       "      <th>4</th>\n",
       "      <td>hardcore</td>\n",
       "      <td>32.5</td>\n",
       "    </tr>\n",
       "  </tbody>\n",
       "</table>\n",
       "</div>"
      ],
      "text/plain": [
       "  track_genre  percent\n",
       "0      comedy     65.6\n",
       "1         emo     46.5\n",
       "2         sad     45.0\n",
       "3     j-dance     39.1\n",
       "4    hardcore     32.5"
      ]
     },
     "execution_count": 76,
     "metadata": {},
     "output_type": "execute_result"
    }
   ],
   "source": [
    "filt_higher_than = (df_genre_percent['percent'] > 8.55)\n",
    "df_genre_percent[filt_higher_than].head(5)\n",
    "#Question: I have 8.55 written there, but can't replace it with the variable total_percent_explicit"
   ]
  },
  {
   "cell_type": "code",
   "execution_count": 121,
   "id": "408f8409",
   "metadata": {},
   "outputs": [],
   "source": [
    "# what markuss would du (simplified of below)\n",
    "df_genre_percent['is_it_average'] = df_genre_percent['percent'].apply(lambda percent: 'above_avg' if percent >= total_percent_explicit\n",
    "                                                   else 'below_avg')"
   ]
  },
  {
   "cell_type": "code",
   "execution_count": 118,
   "id": "abe0078d",
   "metadata": {},
   "outputs": [],
   "source": [
    "#Try to get an additional column on if it's above or below average, and saving it to the initial df\n",
    "df_genre_percent = df_genre_percent.assign(is_it_average = df_genre_percent['percent'].apply(lambda percent: 'above_avg' if percent >= total_percent_explicit\n",
    "                                                   else 'below_avg'))"
   ]
  },
  {
   "cell_type": "code",
   "execution_count": 122,
   "id": "720c5ec1",
   "metadata": {},
   "outputs": [
    {
     "data": {
      "text/html": [
       "<div>\n",
       "<style scoped>\n",
       "    .dataframe tbody tr th:only-of-type {\n",
       "        vertical-align: middle;\n",
       "    }\n",
       "\n",
       "    .dataframe tbody tr th {\n",
       "        vertical-align: top;\n",
       "    }\n",
       "\n",
       "    .dataframe thead th {\n",
       "        text-align: right;\n",
       "    }\n",
       "</style>\n",
       "<table border=\"1\" class=\"dataframe\">\n",
       "  <thead>\n",
       "    <tr style=\"text-align: right;\">\n",
       "      <th></th>\n",
       "      <th>track_genre</th>\n",
       "      <th>percent</th>\n",
       "      <th>is_it_average</th>\n",
       "    </tr>\n",
       "  </thead>\n",
       "  <tbody>\n",
       "    <tr>\n",
       "      <th>0</th>\n",
       "      <td>comedy</td>\n",
       "      <td>65.6</td>\n",
       "      <td>above_avg</td>\n",
       "    </tr>\n",
       "    <tr>\n",
       "      <th>1</th>\n",
       "      <td>emo</td>\n",
       "      <td>46.5</td>\n",
       "      <td>above_avg</td>\n",
       "    </tr>\n",
       "    <tr>\n",
       "      <th>2</th>\n",
       "      <td>sad</td>\n",
       "      <td>45.0</td>\n",
       "      <td>above_avg</td>\n",
       "    </tr>\n",
       "    <tr>\n",
       "      <th>3</th>\n",
       "      <td>j-dance</td>\n",
       "      <td>39.1</td>\n",
       "      <td>above_avg</td>\n",
       "    </tr>\n",
       "    <tr>\n",
       "      <th>4</th>\n",
       "      <td>hardcore</td>\n",
       "      <td>32.5</td>\n",
       "      <td>above_avg</td>\n",
       "    </tr>\n",
       "    <tr>\n",
       "      <th>...</th>\n",
       "      <td>...</td>\n",
       "      <td>...</td>\n",
       "      <td>...</td>\n",
       "    </tr>\n",
       "    <tr>\n",
       "      <th>109</th>\n",
       "      <td>honky-tonk</td>\n",
       "      <td>NaN</td>\n",
       "      <td>below_avg</td>\n",
       "    </tr>\n",
       "    <tr>\n",
       "      <th>110</th>\n",
       "      <td>sleep</td>\n",
       "      <td>NaN</td>\n",
       "      <td>below_avg</td>\n",
       "    </tr>\n",
       "    <tr>\n",
       "      <th>111</th>\n",
       "      <td>study</td>\n",
       "      <td>NaN</td>\n",
       "      <td>below_avg</td>\n",
       "    </tr>\n",
       "    <tr>\n",
       "      <th>112</th>\n",
       "      <td>tango</td>\n",
       "      <td>NaN</td>\n",
       "      <td>below_avg</td>\n",
       "    </tr>\n",
       "    <tr>\n",
       "      <th>113</th>\n",
       "      <td>world-music</td>\n",
       "      <td>NaN</td>\n",
       "      <td>below_avg</td>\n",
       "    </tr>\n",
       "  </tbody>\n",
       "</table>\n",
       "<p>114 rows × 3 columns</p>\n",
       "</div>"
      ],
      "text/plain": [
       "     track_genre  percent is_it_average\n",
       "0         comedy     65.6     above_avg\n",
       "1            emo     46.5     above_avg\n",
       "2            sad     45.0     above_avg\n",
       "3        j-dance     39.1     above_avg\n",
       "4       hardcore     32.5     above_avg\n",
       "..           ...      ...           ...\n",
       "109   honky-tonk      NaN     below_avg\n",
       "110        sleep      NaN     below_avg\n",
       "111        study      NaN     below_avg\n",
       "112        tango      NaN     below_avg\n",
       "113  world-music      NaN     below_avg\n",
       "\n",
       "[114 rows x 3 columns]"
      ]
     },
     "execution_count": 122,
     "metadata": {},
     "output_type": "execute_result"
    }
   ],
   "source": [
    "df_genre_percent"
   ]
  },
  {
   "cell_type": "code",
   "execution_count": 133,
   "id": "b6037145",
   "metadata": {},
   "outputs": [
    {
     "data": {
      "image/png": "[encoded data removed]",
      "text/plain": [
       "<Figure size 640x480 with 1 Axes>"
      ]
     },
     "metadata": {},
     "output_type": "display_data"
    }
   ],
   "source": [
    "sns.histplot(df_genre_percent[\"percent\"], color = '#1DB954', bins = 50).set_title(\"Histo of explicitnessby genre\")\n",
    "plt.show()\n",
    "# would like to have an average line here to show distribution but whatever for now.b"
   ]
  },
  {
   "cell_type": "code",
   "execution_count": 135,
   "id": "88c871e6",
   "metadata": {},
   "outputs": [
    {
     "name": "stderr",
     "output_type": "stream",
     "text": [
      "/Users/aoifesullivan/opt/anaconda3/lib/python3.9/site-packages/seaborn/_decorators.py:36: FutureWarning: Pass the following variable as a keyword arg: x. From version 0.12, the only valid positional argument will be `data`, and passing other arguments without an explicit keyword will result in an error or misinterpretation.\n",
      "  warnings.warn(\n"
     ]
    },
    {
     "data": {
      "image/png": "[encoded data removed]",
      "text/plain": [
       "<Figure size 640x480 with 1 Axes>"
      ]
     },
     "metadata": {},
     "output_type": "display_data"
    }
   ],
   "source": [
    "sns.boxplot(df_genre_percent[\"percent\"]).set_title(\"Boxy p for explicit distribb\")\n",
    "plt.show()"
   ]
  },
  {
   "cell_type": "code",
   "execution_count": 138,
   "id": "78354ca7",
   "metadata": {},
   "outputs": [
    {
     "data": {
      "image/png": "[encoded data removed]",
      "text/plain": [
       "<Figure size 640x480 with 1 Axes>"
      ]
     },
     "metadata": {},
     "output_type": "display_data"
    }
   ],
   "source": [
    "sns.histplot(df[\"danceability\"], color = '#1DB954', bins = 50).set_title(\"Histo of danceability by track\")\n",
    "plt.show()"
   ]
  },
  {
   "cell_type": "code",
   "execution_count": 151,
   "id": "59736598",
   "metadata": {},
   "outputs": [
    {
     "ename": "TypeError",
     "evalue": "'NoneType' object is not iterable",
     "output_type": "error",
     "traceback": [
      "\u001b[0;31m---------------------------------------------------------------------------\u001b[0m",
      "\u001b[0;31mTypeError\u001b[0m                                 Traceback (most recent call last)",
      "\u001b[0;32m/var/folders/kh/h0ddznzx2gddttr7vpknb06h0000gn/T/ipykernel_8937/3112351628.py\u001b[0m in \u001b[0;36m<module>\u001b[0;34m\u001b[0m\n\u001b[1;32m      1\u001b[0m \u001b[0;31m#make this a sum by genre, at the moment it's nothing\u001b[0m\u001b[0;34m\u001b[0m\u001b[0;34m\u001b[0m\u001b[0m\n\u001b[0;32m----> 2\u001b[0;31m \u001b[0msns\u001b[0m\u001b[0;34m.\u001b[0m\u001b[0mhistplot\u001b[0m\u001b[0;34m(\u001b[0m\u001b[0mgroupby_genre\u001b[0m\u001b[0;34m[\u001b[0m\u001b[0;34m\"danceability\"\u001b[0m\u001b[0;34m]\u001b[0m\u001b[0;34m,\u001b[0m \u001b[0mcolor\u001b[0m \u001b[0;34m=\u001b[0m \u001b[0;34m'#1DB954'\u001b[0m\u001b[0;34m,\u001b[0m \u001b[0mbins\u001b[0m \u001b[0;34m=\u001b[0m \u001b[0;36m50\u001b[0m\u001b[0;34m)\u001b[0m\u001b[0;34m.\u001b[0m\u001b[0mset_title\u001b[0m\u001b[0;34m(\u001b[0m\u001b[0;34m\"Histo of danceability by genre\"\u001b[0m\u001b[0;34m)\u001b[0m\u001b[0;34m\u001b[0m\u001b[0;34m\u001b[0m\u001b[0m\n\u001b[0m\u001b[1;32m      3\u001b[0m \u001b[0mplt\u001b[0m\u001b[0;34m.\u001b[0m\u001b[0mshow\u001b[0m\u001b[0;34m(\u001b[0m\u001b[0;34m)\u001b[0m\u001b[0;34m\u001b[0m\u001b[0;34m\u001b[0m\u001b[0m\n",
      "\u001b[0;32m~/opt/anaconda3/lib/python3.9/site-packages/seaborn/distributions.py\u001b[0m in \u001b[0;36mhistplot\u001b[0;34m(data, x, y, hue, weights, stat, bins, binwidth, binrange, discrete, cumulative, common_bins, common_norm, multiple, element, fill, shrink, kde, kde_kws, line_kws, thresh, pthresh, pmax, cbar, cbar_ax, cbar_kws, palette, hue_order, hue_norm, color, log_scale, legend, ax, **kwargs)\u001b[0m\n\u001b[1;32m   1460\u001b[0m     \u001b[0;32mif\u001b[0m \u001b[0mp\u001b[0m\u001b[0;34m.\u001b[0m\u001b[0munivariate\u001b[0m\u001b[0;34m:\u001b[0m\u001b[0;34m\u001b[0m\u001b[0;34m\u001b[0m\u001b[0m\n\u001b[1;32m   1461\u001b[0m \u001b[0;34m\u001b[0m\u001b[0m\n\u001b[0;32m-> 1462\u001b[0;31m         p.plot_univariate_histogram(\n\u001b[0m\u001b[1;32m   1463\u001b[0m             \u001b[0mmultiple\u001b[0m\u001b[0;34m=\u001b[0m\u001b[0mmultiple\u001b[0m\u001b[0;34m,\u001b[0m\u001b[0;34m\u001b[0m\u001b[0;34m\u001b[0m\u001b[0m\n\u001b[1;32m   1464\u001b[0m             \u001b[0melement\u001b[0m\u001b[0;34m=\u001b[0m\u001b[0melement\u001b[0m\u001b[0;34m,\u001b[0m\u001b[0;34m\u001b[0m\u001b[0;34m\u001b[0m\u001b[0m\n",
      "\u001b[0;32m~/opt/anaconda3/lib/python3.9/site-packages/seaborn/distributions.py\u001b[0m in \u001b[0;36mplot_univariate_histogram\u001b[0;34m(self, multiple, element, fill, common_norm, common_bins, shrink, kde, kde_kws, color, legend, line_kws, estimate_kws, **plot_kws)\u001b[0m\n\u001b[1;32m    426\u001b[0m \u001b[0;34m\u001b[0m\u001b[0m\n\u001b[1;32m    427\u001b[0m         \u001b[0;31m# First pass through the data to compute the histograms\u001b[0m\u001b[0;34m\u001b[0m\u001b[0;34m\u001b[0m\u001b[0m\n\u001b[0;32m--> 428\u001b[0;31m         \u001b[0;32mfor\u001b[0m \u001b[0msub_vars\u001b[0m\u001b[0;34m,\u001b[0m \u001b[0msub_data\u001b[0m \u001b[0;32min\u001b[0m \u001b[0mself\u001b[0m\u001b[0;34m.\u001b[0m\u001b[0miter_data\u001b[0m\u001b[0;34m(\u001b[0m\u001b[0;34m\"hue\"\u001b[0m\u001b[0;34m,\u001b[0m \u001b[0mfrom_comp_data\u001b[0m\u001b[0;34m=\u001b[0m\u001b[0;32mTrue\u001b[0m\u001b[0;34m)\u001b[0m\u001b[0;34m:\u001b[0m\u001b[0;34m\u001b[0m\u001b[0;34m\u001b[0m\u001b[0m\n\u001b[0m\u001b[1;32m    429\u001b[0m \u001b[0;34m\u001b[0m\u001b[0m\n\u001b[1;32m    430\u001b[0m             \u001b[0;31m# Prepare the relevant data\u001b[0m\u001b[0;34m\u001b[0m\u001b[0;34m\u001b[0m\u001b[0m\n",
      "\u001b[0;32m~/opt/anaconda3/lib/python3.9/site-packages/seaborn/_core.py\u001b[0m in \u001b[0;36miter_data\u001b[0;34m(self, grouping_vars, reverse, from_comp_data)\u001b[0m\n\u001b[1;32m    995\u001b[0m                 \u001b[0mgrouping_keys\u001b[0m\u001b[0;34m.\u001b[0m\u001b[0mappend\u001b[0m\u001b[0;34m(\u001b[0m\u001b[0mself\u001b[0m\u001b[0;34m.\u001b[0m\u001b[0mvar_levels\u001b[0m\u001b[0;34m.\u001b[0m\u001b[0mget\u001b[0m\u001b[0;34m(\u001b[0m\u001b[0mvar\u001b[0m\u001b[0;34m,\u001b[0m \u001b[0;34m[\u001b[0m\u001b[0;34m]\u001b[0m\u001b[0;34m)\u001b[0m\u001b[0;34m)\u001b[0m\u001b[0;34m\u001b[0m\u001b[0;34m\u001b[0m\u001b[0m\n\u001b[1;32m    996\u001b[0m \u001b[0;34m\u001b[0m\u001b[0m\n\u001b[0;32m--> 997\u001b[0;31m             \u001b[0miter_keys\u001b[0m \u001b[0;34m=\u001b[0m \u001b[0mitertools\u001b[0m\u001b[0;34m.\u001b[0m\u001b[0mproduct\u001b[0m\u001b[0;34m(\u001b[0m\u001b[0;34m*\u001b[0m\u001b[0mgrouping_keys\u001b[0m\u001b[0;34m)\u001b[0m\u001b[0;34m\u001b[0m\u001b[0;34m\u001b[0m\u001b[0m\n\u001b[0m\u001b[1;32m    998\u001b[0m             \u001b[0;32mif\u001b[0m \u001b[0mreverse\u001b[0m\u001b[0;34m:\u001b[0m\u001b[0;34m\u001b[0m\u001b[0;34m\u001b[0m\u001b[0m\n\u001b[1;32m    999\u001b[0m                 \u001b[0miter_keys\u001b[0m \u001b[0;34m=\u001b[0m \u001b[0mreversed\u001b[0m\u001b[0;34m(\u001b[0m\u001b[0mlist\u001b[0m\u001b[0;34m(\u001b[0m\u001b[0miter_keys\u001b[0m\u001b[0;34m)\u001b[0m\u001b[0;34m)\u001b[0m\u001b[0;34m\u001b[0m\u001b[0;34m\u001b[0m\u001b[0m\n",
      "\u001b[0;31mTypeError\u001b[0m: 'NoneType' object is not iterable"
     ]
    },
    {
     "data": {
      "image/png": "[encoded data removed]",
      "text/plain": [
       "<Figure size 640x480 with 1 Axes>"
      ]
     },
     "metadata": {},
     "output_type": "display_data"
    }
   ],
   "source": [
    "#make this a sum by genre, at the moment it's nothing\n",
    "groupby_genre = \n",
    "sns.histplot(groupby_genre[\"danceability\"], color = '#1DB954', bins = 50).set_title(\"Histo of danceability by genre\")\n",
    "plt.show()"
   ]
  }
 ],
 "metadata": {
  "kernelspec": {
   "display_name": "Python 3 (ipykernel)",
   "language": "python",
   "name": "python3"
  },
  "language_info": {
   "codemirror_mode": {
    "name": "ipython",
    "version": 3
   },
   "file_extension": ".py",
   "mimetype": "text/x-python",
   "name": "python",
   "nbconvert_exporter": "python",
   "pygments_lexer": "ipython3",
   "version": "3.9.13"
  }
 },
 "nbformat": 4,
 "nbformat_minor": 5
}
