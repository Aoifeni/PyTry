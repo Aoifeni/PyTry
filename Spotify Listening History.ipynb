{
 "cells": [
  {
   "cell_type": "code",
   "execution_count": 1,
   "id": "c86f13c5",
   "metadata": {},
   "outputs": [],
   "source": [
    "import numpy as np\n",
    "import pandas as pd\n",
    "import matplotlib.pyplot as plt\n",
    "import seaborn as sns\n",
    "from numpy.random import randint"
   ]
  },
  {
   "cell_type": "code",
   "execution_count": 2,
   "id": "496b5943",
   "metadata": {},
   "outputs": [],
   "source": [
    "df1 = pd.read_json('/Users/aoifesullivan/Downloads/MyData/Streaming_History_Audio_2016-2018_0.json', convert_dates=True)\n",
    "df2 = pd.read_json('/Users/aoifesullivan/Downloads/MyData/Streaming_History_Audio_2018-2019_1.json', convert_dates=True)\n",
    "df3 = pd.read_json('/Users/aoifesullivan/Downloads/MyData/Streaming_History_Audio_2019-2021_2.json', convert_dates=True)\n",
    "df4 = pd.read_json('/Users/aoifesullivan/Downloads/MyData/Streaming_History_Audio_2021-2023_3.json', convert_dates=True)"
   ]
  },
  {
   "cell_type": "markdown",
   "id": "46011e87",
   "metadata": {},
   "source": [
    "# Ideas to explore \n",
    "\n",
    "1. Which country have I streamed the most in\n",
    "2. Which platform has been my trusty companion for my streaming needs\n",
    "3. Top artist, top 10. Top artist by country, top artist by year. \n",
    "4. Top song ever, top 10 . Top songs by country, top songs by year.\n",
    "5. Line plot by monthly streams - which months had the most and least.\n",
    "6. By year - which year had the most and least streams. \n",
    "7. Sankey for who I listened to in Aus, and who came with me to other countries, and who dropped off in Aus never to be heard again. Makes sense as I got Spotify first in Australia. \n",
    "8. Line graph of each year  - line per year, with month as x axis counting streams - what year and month was the most active. [plots here](https://pandas.pydata.org/docs/user_guide/visualization.html)\n",
    "9. Country heat map of all the places I have listened. \n",
    "10. Taylor Swift is one of my top artists of 2023, but I barely listened to her - I was looking for one specific song so skipped through loads of her songs because I didn't know what it was called! That's actually why I downloaded this data. So it would be cool to visualise the amount of TS songs I actually listened through to the end, because it's probably only one song, but that one song many times! \n",
    "11. Podcasts vs tunes - the rise and fall in a line graph showing podcasts eating music's share. "
   ]
  },
  {
   "cell_type": "code",
   "execution_count": 3,
   "id": "f5e8877a",
   "metadata": {},
   "outputs": [
    {
     "data": {
      "text/html": [
       "<div>\n",
       "<style scoped>\n",
       "    .dataframe tbody tr th:only-of-type {\n",
       "        vertical-align: middle;\n",
       "    }\n",
       "\n",
       "    .dataframe tbody tr th {\n",
       "        vertical-align: top;\n",
       "    }\n",
       "\n",
       "    .dataframe thead th {\n",
       "        text-align: right;\n",
       "    }\n",
       "</style>\n",
       "<table border=\"1\" class=\"dataframe\">\n",
       "  <thead>\n",
       "    <tr style=\"text-align: right;\">\n",
       "      <th></th>\n",
       "      <th>ts</th>\n",
       "      <th>username</th>\n",
       "      <th>platform</th>\n",
       "      <th>ms_played</th>\n",
       "      <th>conn_country</th>\n",
       "      <th>ip_addr_decrypted</th>\n",
       "      <th>user_agent_decrypted</th>\n",
       "      <th>master_metadata_track_name</th>\n",
       "      <th>master_metadata_album_artist_name</th>\n",
       "      <th>master_metadata_album_album_name</th>\n",
       "      <th>...</th>\n",
       "      <th>episode_name</th>\n",
       "      <th>episode_show_name</th>\n",
       "      <th>spotify_episode_uri</th>\n",
       "      <th>reason_start</th>\n",
       "      <th>reason_end</th>\n",
       "      <th>shuffle</th>\n",
       "      <th>skipped</th>\n",
       "      <th>offline</th>\n",
       "      <th>offline_timestamp</th>\n",
       "      <th>incognito_mode</th>\n",
       "    </tr>\n",
       "  </thead>\n",
       "  <tbody>\n",
       "    <tr>\n",
       "      <th>0</th>\n",
       "      <td>2021-03-08T13:22:50Z</td>\n",
       "      <td>aoifesullivan73</td>\n",
       "      <td>Android OS 10 API 29 (Fairphone, FP3)</td>\n",
       "      <td>255746</td>\n",
       "      <td>EE</td>\n",
       "      <td>46.131.57.175</td>\n",
       "      <td>unknown</td>\n",
       "      <td>Voodoo?</td>\n",
       "      <td>L'Impératrice</td>\n",
       "      <td>Voodoo?</td>\n",
       "      <td>...</td>\n",
       "      <td>None</td>\n",
       "      <td>None</td>\n",
       "      <td>None</td>\n",
       "      <td>trackdone</td>\n",
       "      <td>trackdone</td>\n",
       "      <td>False</td>\n",
       "      <td>NaN</td>\n",
       "      <td>False</td>\n",
       "      <td>1615209513364</td>\n",
       "      <td>False</td>\n",
       "    </tr>\n",
       "    <tr>\n",
       "      <th>1</th>\n",
       "      <td>2021-03-08T13:26:10Z</td>\n",
       "      <td>aoifesullivan73</td>\n",
       "      <td>Android OS 10 API 29 (Fairphone, FP3)</td>\n",
       "      <td>199276</td>\n",
       "      <td>EE</td>\n",
       "      <td>46.131.57.175</td>\n",
       "      <td>unknown</td>\n",
       "      <td>G.O.Y.D.</td>\n",
       "      <td>Lava La Rue</td>\n",
       "      <td>G.O.Y.D.</td>\n",
       "      <td>...</td>\n",
       "      <td>None</td>\n",
       "      <td>None</td>\n",
       "      <td>None</td>\n",
       "      <td>trackdone</td>\n",
       "      <td>trackdone</td>\n",
       "      <td>False</td>\n",
       "      <td>NaN</td>\n",
       "      <td>False</td>\n",
       "      <td>1615209769719</td>\n",
       "      <td>False</td>\n",
       "    </tr>\n",
       "    <tr>\n",
       "      <th>2</th>\n",
       "      <td>2021-03-08T13:27:44Z</td>\n",
       "      <td>aoifesullivan73</td>\n",
       "      <td>Android OS 10 API 29 (Fairphone, FP3)</td>\n",
       "      <td>93737</td>\n",
       "      <td>EE</td>\n",
       "      <td>46.131.57.175</td>\n",
       "      <td>unknown</td>\n",
       "      <td>Mother Nature's Bitch</td>\n",
       "      <td>Okay Kaya</td>\n",
       "      <td>Watch This Liquid Pour Itself</td>\n",
       "      <td>...</td>\n",
       "      <td>None</td>\n",
       "      <td>None</td>\n",
       "      <td>None</td>\n",
       "      <td>trackdone</td>\n",
       "      <td>trackdone</td>\n",
       "      <td>False</td>\n",
       "      <td>NaN</td>\n",
       "      <td>False</td>\n",
       "      <td>1615209969302</td>\n",
       "      <td>False</td>\n",
       "    </tr>\n",
       "  </tbody>\n",
       "</table>\n",
       "<p>3 rows × 21 columns</p>\n",
       "</div>"
      ],
      "text/plain": [
       "                     ts         username  \\\n",
       "0  2021-03-08T13:22:50Z  aoifesullivan73   \n",
       "1  2021-03-08T13:26:10Z  aoifesullivan73   \n",
       "2  2021-03-08T13:27:44Z  aoifesullivan73   \n",
       "\n",
       "                                platform  ms_played conn_country  \\\n",
       "0  Android OS 10 API 29 (Fairphone, FP3)     255746           EE   \n",
       "1  Android OS 10 API 29 (Fairphone, FP3)     199276           EE   \n",
       "2  Android OS 10 API 29 (Fairphone, FP3)      93737           EE   \n",
       "\n",
       "  ip_addr_decrypted user_agent_decrypted master_metadata_track_name  \\\n",
       "0     46.131.57.175              unknown                    Voodoo?   \n",
       "1     46.131.57.175              unknown                   G.O.Y.D.   \n",
       "2     46.131.57.175              unknown      Mother Nature's Bitch   \n",
       "\n",
       "  master_metadata_album_artist_name master_metadata_album_album_name  ...  \\\n",
       "0                     L'Impératrice                          Voodoo?  ...   \n",
       "1                       Lava La Rue                         G.O.Y.D.  ...   \n",
       "2                         Okay Kaya    Watch This Liquid Pour Itself  ...   \n",
       "\n",
       "  episode_name episode_show_name spotify_episode_uri reason_start reason_end  \\\n",
       "0         None              None                None    trackdone  trackdone   \n",
       "1         None              None                None    trackdone  trackdone   \n",
       "2         None              None                None    trackdone  trackdone   \n",
       "\n",
       "  shuffle  skipped  offline  offline_timestamp  incognito_mode  \n",
       "0   False      NaN    False      1615209513364           False  \n",
       "1   False      NaN    False      1615209769719           False  \n",
       "2   False      NaN    False      1615209969302           False  \n",
       "\n",
       "[3 rows x 21 columns]"
      ]
     },
     "execution_count": 3,
     "metadata": {},
     "output_type": "execute_result"
    }
   ],
   "source": [
    "df4.head(3)"
   ]
  },
  {
   "cell_type": "markdown",
   "id": "d1cfb6e4",
   "metadata": {},
   "source": [
    "# Importing and processing data"
   ]
  },
  {
   "cell_type": "code",
   "execution_count": 4,
   "id": "93a17431",
   "metadata": {},
   "outputs": [
    {
     "name": "stdout",
     "output_type": "stream",
     "text": [
      "(15844, 21)\n",
      "(15859, 21)\n",
      "(16039, 21)\n",
      "(15080, 21)\n",
      "62822\n"
     ]
    }
   ],
   "source": [
    "print(df1.shape)\n",
    "print(df2.shape)\n",
    "print(df3.shape)\n",
    "print(df4.shape)\n",
    "row_total = df1.shape[0] + df2.shape[0] + df3.shape[0] + df4.shape[0]\n",
    "print(row_total)"
   ]
  },
  {
   "cell_type": "code",
   "execution_count": 5,
   "id": "2fe568d2",
   "metadata": {},
   "outputs": [
    {
     "data": {
      "text/plain": [
       "(62822, 21)"
      ]
     },
     "execution_count": 5,
     "metadata": {},
     "output_type": "execute_result"
    }
   ],
   "source": [
    "concatenated = pd.concat([df1, df2, df3, df4])\n",
    "concatenated.shape"
   ]
  },
  {
   "cell_type": "code",
   "execution_count": 6,
   "id": "4ab95300",
   "metadata": {},
   "outputs": [
    {
     "name": "stdout",
     "output_type": "stream",
     "text": [
      "<class 'pandas.core.frame.DataFrame'>\n",
      "Int64Index: 62822 entries, 0 to 15079\n",
      "Data columns (total 21 columns):\n",
      " #   Column                             Non-Null Count  Dtype  \n",
      "---  ------                             --------------  -----  \n",
      " 0   ts                                 62822 non-null  object \n",
      " 1   username                           62822 non-null  object \n",
      " 2   platform                           62822 non-null  object \n",
      " 3   ms_played                          62822 non-null  int64  \n",
      " 4   conn_country                       62822 non-null  object \n",
      " 5   ip_addr_decrypted                  62822 non-null  object \n",
      " 6   user_agent_decrypted               55584 non-null  object \n",
      " 7   master_metadata_track_name         58832 non-null  object \n",
      " 8   master_metadata_album_artist_name  58832 non-null  object \n",
      " 9   master_metadata_album_album_name   58832 non-null  object \n",
      " 10  spotify_track_uri                  58832 non-null  object \n",
      " 11  episode_name                       2308 non-null   object \n",
      " 12  episode_show_name                  2308 non-null   object \n",
      " 13  spotify_episode_uri                2308 non-null   object \n",
      " 14  reason_start                       62822 non-null  object \n",
      " 15  reason_end                         62822 non-null  object \n",
      " 16  shuffle                            62822 non-null  bool   \n",
      " 17  skipped                            6449 non-null   float64\n",
      " 18  offline                            62822 non-null  bool   \n",
      " 19  offline_timestamp                  62822 non-null  int64  \n",
      " 20  incognito_mode                     62822 non-null  bool   \n",
      "dtypes: bool(3), float64(1), int64(2), object(15)\n",
      "memory usage: 9.3+ MB\n"
     ]
    }
   ],
   "source": [
    "concatenated.info()"
   ]
  },
  {
   "cell_type": "code",
   "execution_count": 7,
   "id": "9978f9d5",
   "metadata": {},
   "outputs": [
    {
     "data": {
      "text/plain": [
       "<AxesSubplot:>"
      ]
     },
     "execution_count": 7,
     "metadata": {},
     "output_type": "execute_result"
    },
    {
     "data": {
      "image/png": "[encoded data removed]",
      "text/plain": [
       "<Figure size 640x480 with 2 Axes>"
      ]
     },
     "metadata": {},
     "output_type": "display_data"
    }
   ],
   "source": [
    "sns.heatmap(concatenated.isnull())"
   ]
  },
  {
   "cell_type": "code",
   "execution_count": 8,
   "id": "6ad3d692",
   "metadata": {},
   "outputs": [
    {
     "data": {
      "text/plain": [
       "array(['aoifesullivan73'], dtype=object)"
      ]
     },
     "execution_count": 8,
     "metadata": {},
     "output_type": "execute_result"
    }
   ],
   "source": [
    "#making sure it's only my data as I changed to premium duo, if so I can drop the column\n",
    "concatenated['username'].unique()"
   ]
  },
  {
   "cell_type": "code",
   "execution_count": 9,
   "id": "0668917e",
   "metadata": {},
   "outputs": [],
   "source": [
    "df = concatenated.drop(['username', 'user_agent_decrypted', 'offline', 'offline_timestamp', 'incognito_mode'], axis = 1)"
   ]
  },
  {
   "cell_type": "code",
   "execution_count": 10,
   "id": "447d101d",
   "metadata": {},
   "outputs": [
    {
     "data": {
      "text/html": [
       "<div>\n",
       "<style scoped>\n",
       "    .dataframe tbody tr th:only-of-type {\n",
       "        vertical-align: middle;\n",
       "    }\n",
       "\n",
       "    .dataframe tbody tr th {\n",
       "        vertical-align: top;\n",
       "    }\n",
       "\n",
       "    .dataframe thead th {\n",
       "        text-align: right;\n",
       "    }\n",
       "</style>\n",
       "<table border=\"1\" class=\"dataframe\">\n",
       "  <thead>\n",
       "    <tr style=\"text-align: right;\">\n",
       "      <th></th>\n",
       "      <th>ts</th>\n",
       "      <th>platform</th>\n",
       "      <th>ms_played</th>\n",
       "      <th>conn_country</th>\n",
       "      <th>ip_addr_decrypted</th>\n",
       "      <th>master_metadata_track_name</th>\n",
       "      <th>master_metadata_album_artist_name</th>\n",
       "      <th>master_metadata_album_album_name</th>\n",
       "      <th>spotify_track_uri</th>\n",
       "      <th>episode_name</th>\n",
       "      <th>episode_show_name</th>\n",
       "      <th>spotify_episode_uri</th>\n",
       "      <th>reason_start</th>\n",
       "      <th>reason_end</th>\n",
       "      <th>shuffle</th>\n",
       "      <th>skipped</th>\n",
       "    </tr>\n",
       "  </thead>\n",
       "  <tbody>\n",
       "    <tr>\n",
       "      <th>0</th>\n",
       "      <td>2016-10-18T02:38:13Z</td>\n",
       "      <td>Android OS 6.0.1 API 23 (samsung, SM-G900I)</td>\n",
       "      <td>197400</td>\n",
       "      <td>AU</td>\n",
       "      <td>220.244.175.56</td>\n",
       "      <td>Not a One</td>\n",
       "      <td>The Young Wild</td>\n",
       "      <td>All the Luck</td>\n",
       "      <td>spotify:track:0nspbHlLDeuyRBPF5RkTEB</td>\n",
       "      <td>None</td>\n",
       "      <td>None</td>\n",
       "      <td>None</td>\n",
       "      <td>clickrow</td>\n",
       "      <td>trackdone</td>\n",
       "      <td>True</td>\n",
       "      <td>NaN</td>\n",
       "    </tr>\n",
       "    <tr>\n",
       "      <th>1</th>\n",
       "      <td>2016-10-18T02:39:01Z</td>\n",
       "      <td>Android OS 6.0.1 API 23 (samsung, SM-G900I)</td>\n",
       "      <td>9504</td>\n",
       "      <td>AU</td>\n",
       "      <td>220.244.175.56</td>\n",
       "      <td>Wish I Knew You</td>\n",
       "      <td>The Revivalists</td>\n",
       "      <td>Men Amongst Mountains</td>\n",
       "      <td>spotify:track:2xWukbn2Ly4grvop0O9umE</td>\n",
       "      <td>None</td>\n",
       "      <td>None</td>\n",
       "      <td>None</td>\n",
       "      <td>trackdone</td>\n",
       "      <td>remote</td>\n",
       "      <td>True</td>\n",
       "      <td>NaN</td>\n",
       "    </tr>\n",
       "    <tr>\n",
       "      <th>2</th>\n",
       "      <td>2016-10-18T02:41:04Z</td>\n",
       "      <td>OS X 10.11.6 [x86 4]</td>\n",
       "      <td>122704</td>\n",
       "      <td>AU</td>\n",
       "      <td>220.244.175.56</td>\n",
       "      <td>All I Want</td>\n",
       "      <td>Pierluigi Ferrantini</td>\n",
       "      <td>Rockin' Vibes: Great Rock Hits Selection</td>\n",
       "      <td>spotify:track:6vwOfYltMEYVxkyb50JcEe</td>\n",
       "      <td>None</td>\n",
       "      <td>None</td>\n",
       "      <td>None</td>\n",
       "      <td>clickrow</td>\n",
       "      <td>trackdone</td>\n",
       "      <td>False</td>\n",
       "      <td>NaN</td>\n",
       "    </tr>\n",
       "    <tr>\n",
       "      <th>3</th>\n",
       "      <td>2016-10-18T02:43:15Z</td>\n",
       "      <td>OS X 10.11.6 [x86 4]</td>\n",
       "      <td>130308</td>\n",
       "      <td>AU</td>\n",
       "      <td>220.244.175.56</td>\n",
       "      <td>Do You Wanna</td>\n",
       "      <td>Pierluigi Ferrantini</td>\n",
       "      <td>Rockin' Vibes: Great Rock Hits Selection</td>\n",
       "      <td>spotify:track:4dBXLwLEZkJXrZsf7kBjfD</td>\n",
       "      <td>None</td>\n",
       "      <td>None</td>\n",
       "      <td>None</td>\n",
       "      <td>trackdone</td>\n",
       "      <td>trackdone</td>\n",
       "      <td>False</td>\n",
       "      <td>NaN</td>\n",
       "    </tr>\n",
       "    <tr>\n",
       "      <th>4</th>\n",
       "      <td>2016-10-18T02:45:28Z</td>\n",
       "      <td>OS X 10.11.6 [x86 4]</td>\n",
       "      <td>133264</td>\n",
       "      <td>AU</td>\n",
       "      <td>220.244.175.56</td>\n",
       "      <td>The Sound of Drums - Vocal</td>\n",
       "      <td>Pierluigi Ferrantini</td>\n",
       "      <td>Rockin' Vibes: Great Rock Hits Selection</td>\n",
       "      <td>spotify:track:6lMUlPqM9iv7PwqHfNsQhY</td>\n",
       "      <td>None</td>\n",
       "      <td>None</td>\n",
       "      <td>None</td>\n",
       "      <td>trackdone</td>\n",
       "      <td>trackdone</td>\n",
       "      <td>False</td>\n",
       "      <td>NaN</td>\n",
       "    </tr>\n",
       "  </tbody>\n",
       "</table>\n",
       "</div>"
      ],
      "text/plain": [
       "                     ts                                     platform  \\\n",
       "0  2016-10-18T02:38:13Z  Android OS 6.0.1 API 23 (samsung, SM-G900I)   \n",
       "1  2016-10-18T02:39:01Z  Android OS 6.0.1 API 23 (samsung, SM-G900I)   \n",
       "2  2016-10-18T02:41:04Z                         OS X 10.11.6 [x86 4]   \n",
       "3  2016-10-18T02:43:15Z                         OS X 10.11.6 [x86 4]   \n",
       "4  2016-10-18T02:45:28Z                         OS X 10.11.6 [x86 4]   \n",
       "\n",
       "   ms_played conn_country ip_addr_decrypted  master_metadata_track_name  \\\n",
       "0     197400           AU    220.244.175.56                   Not a One   \n",
       "1       9504           AU    220.244.175.56             Wish I Knew You   \n",
       "2     122704           AU    220.244.175.56                  All I Want   \n",
       "3     130308           AU    220.244.175.56                Do You Wanna   \n",
       "4     133264           AU    220.244.175.56  The Sound of Drums - Vocal   \n",
       "\n",
       "  master_metadata_album_artist_name          master_metadata_album_album_name  \\\n",
       "0                    The Young Wild                              All the Luck   \n",
       "1                   The Revivalists                     Men Amongst Mountains   \n",
       "2              Pierluigi Ferrantini  Rockin' Vibes: Great Rock Hits Selection   \n",
       "3              Pierluigi Ferrantini  Rockin' Vibes: Great Rock Hits Selection   \n",
       "4              Pierluigi Ferrantini  Rockin' Vibes: Great Rock Hits Selection   \n",
       "\n",
       "                      spotify_track_uri episode_name episode_show_name  \\\n",
       "0  spotify:track:0nspbHlLDeuyRBPF5RkTEB         None              None   \n",
       "1  spotify:track:2xWukbn2Ly4grvop0O9umE         None              None   \n",
       "2  spotify:track:6vwOfYltMEYVxkyb50JcEe         None              None   \n",
       "3  spotify:track:4dBXLwLEZkJXrZsf7kBjfD         None              None   \n",
       "4  spotify:track:6lMUlPqM9iv7PwqHfNsQhY         None              None   \n",
       "\n",
       "  spotify_episode_uri reason_start reason_end  shuffle  skipped  \n",
       "0                None     clickrow  trackdone     True      NaN  \n",
       "1                None    trackdone     remote     True      NaN  \n",
       "2                None     clickrow  trackdone    False      NaN  \n",
       "3                None    trackdone  trackdone    False      NaN  \n",
       "4                None    trackdone  trackdone    False      NaN  "
      ]
     },
     "execution_count": 10,
     "metadata": {},
     "output_type": "execute_result"
    }
   ],
   "source": [
    "df.head(5)"
   ]
  },
  {
   "cell_type": "code",
   "execution_count": 11,
   "id": "425bf247",
   "metadata": {},
   "outputs": [],
   "source": [
    "df = df.rename(columns = {'conn_country' : 'country', 'master_metadata_track_name' : 'track_name', 'master_metadata_album_artist_name' : 'artist_name', 'master_metadata_album_album_name' : 'album_name'})"
   ]
  },
  {
   "cell_type": "code",
   "execution_count": 12,
   "id": "515da712",
   "metadata": {},
   "outputs": [
    {
     "data": {
      "text/html": [
       "<div>\n",
       "<style scoped>\n",
       "    .dataframe tbody tr th:only-of-type {\n",
       "        vertical-align: middle;\n",
       "    }\n",
       "\n",
       "    .dataframe tbody tr th {\n",
       "        vertical-align: top;\n",
       "    }\n",
       "\n",
       "    .dataframe thead th {\n",
       "        text-align: right;\n",
       "    }\n",
       "</style>\n",
       "<table border=\"1\" class=\"dataframe\">\n",
       "  <thead>\n",
       "    <tr style=\"text-align: right;\">\n",
       "      <th></th>\n",
       "      <th>ts</th>\n",
       "      <th>platform</th>\n",
       "      <th>ms_played</th>\n",
       "      <th>country</th>\n",
       "      <th>ip_addr_decrypted</th>\n",
       "      <th>track_name</th>\n",
       "      <th>artist_name</th>\n",
       "      <th>album_name</th>\n",
       "      <th>spotify_track_uri</th>\n",
       "      <th>episode_name</th>\n",
       "      <th>episode_show_name</th>\n",
       "      <th>spotify_episode_uri</th>\n",
       "      <th>reason_start</th>\n",
       "      <th>reason_end</th>\n",
       "      <th>shuffle</th>\n",
       "      <th>skipped</th>\n",
       "    </tr>\n",
       "  </thead>\n",
       "  <tbody>\n",
       "    <tr>\n",
       "      <th>0</th>\n",
       "      <td>2016-10-18T02:38:13Z</td>\n",
       "      <td>Android OS 6.0.1 API 23 (samsung, SM-G900I)</td>\n",
       "      <td>197400</td>\n",
       "      <td>AU</td>\n",
       "      <td>220.244.175.56</td>\n",
       "      <td>Not a One</td>\n",
       "      <td>The Young Wild</td>\n",
       "      <td>All the Luck</td>\n",
       "      <td>spotify:track:0nspbHlLDeuyRBPF5RkTEB</td>\n",
       "      <td>None</td>\n",
       "      <td>None</td>\n",
       "      <td>None</td>\n",
       "      <td>clickrow</td>\n",
       "      <td>trackdone</td>\n",
       "      <td>True</td>\n",
       "      <td>NaN</td>\n",
       "    </tr>\n",
       "    <tr>\n",
       "      <th>1</th>\n",
       "      <td>2016-10-18T02:39:01Z</td>\n",
       "      <td>Android OS 6.0.1 API 23 (samsung, SM-G900I)</td>\n",
       "      <td>9504</td>\n",
       "      <td>AU</td>\n",
       "      <td>220.244.175.56</td>\n",
       "      <td>Wish I Knew You</td>\n",
       "      <td>The Revivalists</td>\n",
       "      <td>Men Amongst Mountains</td>\n",
       "      <td>spotify:track:2xWukbn2Ly4grvop0O9umE</td>\n",
       "      <td>None</td>\n",
       "      <td>None</td>\n",
       "      <td>None</td>\n",
       "      <td>trackdone</td>\n",
       "      <td>remote</td>\n",
       "      <td>True</td>\n",
       "      <td>NaN</td>\n",
       "    </tr>\n",
       "    <tr>\n",
       "      <th>2</th>\n",
       "      <td>2016-10-18T02:41:04Z</td>\n",
       "      <td>OS X 10.11.6 [x86 4]</td>\n",
       "      <td>122704</td>\n",
       "      <td>AU</td>\n",
       "      <td>220.244.175.56</td>\n",
       "      <td>All I Want</td>\n",
       "      <td>Pierluigi Ferrantini</td>\n",
       "      <td>Rockin' Vibes: Great Rock Hits Selection</td>\n",
       "      <td>spotify:track:6vwOfYltMEYVxkyb50JcEe</td>\n",
       "      <td>None</td>\n",
       "      <td>None</td>\n",
       "      <td>None</td>\n",
       "      <td>clickrow</td>\n",
       "      <td>trackdone</td>\n",
       "      <td>False</td>\n",
       "      <td>NaN</td>\n",
       "    </tr>\n",
       "    <tr>\n",
       "      <th>3</th>\n",
       "      <td>2016-10-18T02:43:15Z</td>\n",
       "      <td>OS X 10.11.6 [x86 4]</td>\n",
       "      <td>130308</td>\n",
       "      <td>AU</td>\n",
       "      <td>220.244.175.56</td>\n",
       "      <td>Do You Wanna</td>\n",
       "      <td>Pierluigi Ferrantini</td>\n",
       "      <td>Rockin' Vibes: Great Rock Hits Selection</td>\n",
       "      <td>spotify:track:4dBXLwLEZkJXrZsf7kBjfD</td>\n",
       "      <td>None</td>\n",
       "      <td>None</td>\n",
       "      <td>None</td>\n",
       "      <td>trackdone</td>\n",
       "      <td>trackdone</td>\n",
       "      <td>False</td>\n",
       "      <td>NaN</td>\n",
       "    </tr>\n",
       "    <tr>\n",
       "      <th>4</th>\n",
       "      <td>2016-10-18T02:45:28Z</td>\n",
       "      <td>OS X 10.11.6 [x86 4]</td>\n",
       "      <td>133264</td>\n",
       "      <td>AU</td>\n",
       "      <td>220.244.175.56</td>\n",
       "      <td>The Sound of Drums - Vocal</td>\n",
       "      <td>Pierluigi Ferrantini</td>\n",
       "      <td>Rockin' Vibes: Great Rock Hits Selection</td>\n",
       "      <td>spotify:track:6lMUlPqM9iv7PwqHfNsQhY</td>\n",
       "      <td>None</td>\n",
       "      <td>None</td>\n",
       "      <td>None</td>\n",
       "      <td>trackdone</td>\n",
       "      <td>trackdone</td>\n",
       "      <td>False</td>\n",
       "      <td>NaN</td>\n",
       "    </tr>\n",
       "  </tbody>\n",
       "</table>\n",
       "</div>"
      ],
      "text/plain": [
       "                     ts                                     platform  \\\n",
       "0  2016-10-18T02:38:13Z  Android OS 6.0.1 API 23 (samsung, SM-G900I)   \n",
       "1  2016-10-18T02:39:01Z  Android OS 6.0.1 API 23 (samsung, SM-G900I)   \n",
       "2  2016-10-18T02:41:04Z                         OS X 10.11.6 [x86 4]   \n",
       "3  2016-10-18T02:43:15Z                         OS X 10.11.6 [x86 4]   \n",
       "4  2016-10-18T02:45:28Z                         OS X 10.11.6 [x86 4]   \n",
       "\n",
       "   ms_played country ip_addr_decrypted                  track_name  \\\n",
       "0     197400      AU    220.244.175.56                   Not a One   \n",
       "1       9504      AU    220.244.175.56             Wish I Knew You   \n",
       "2     122704      AU    220.244.175.56                  All I Want   \n",
       "3     130308      AU    220.244.175.56                Do You Wanna   \n",
       "4     133264      AU    220.244.175.56  The Sound of Drums - Vocal   \n",
       "\n",
       "            artist_name                                album_name  \\\n",
       "0        The Young Wild                              All the Luck   \n",
       "1       The Revivalists                     Men Amongst Mountains   \n",
       "2  Pierluigi Ferrantini  Rockin' Vibes: Great Rock Hits Selection   \n",
       "3  Pierluigi Ferrantini  Rockin' Vibes: Great Rock Hits Selection   \n",
       "4  Pierluigi Ferrantini  Rockin' Vibes: Great Rock Hits Selection   \n",
       "\n",
       "                      spotify_track_uri episode_name episode_show_name  \\\n",
       "0  spotify:track:0nspbHlLDeuyRBPF5RkTEB         None              None   \n",
       "1  spotify:track:2xWukbn2Ly4grvop0O9umE         None              None   \n",
       "2  spotify:track:6vwOfYltMEYVxkyb50JcEe         None              None   \n",
       "3  spotify:track:4dBXLwLEZkJXrZsf7kBjfD         None              None   \n",
       "4  spotify:track:6lMUlPqM9iv7PwqHfNsQhY         None              None   \n",
       "\n",
       "  spotify_episode_uri reason_start reason_end  shuffle  skipped  \n",
       "0                None     clickrow  trackdone     True      NaN  \n",
       "1                None    trackdone     remote     True      NaN  \n",
       "2                None     clickrow  trackdone    False      NaN  \n",
       "3                None    trackdone  trackdone    False      NaN  \n",
       "4                None    trackdone  trackdone    False      NaN  "
      ]
     },
     "execution_count": 12,
     "metadata": {},
     "output_type": "execute_result"
    }
   ],
   "source": [
    "df.head(5)"
   ]
  },
  {
   "cell_type": "markdown",
   "id": "96b3756f",
   "metadata": {},
   "source": [
    "Looking good, let's start answering some questions."
   ]
  },
  {
   "cell_type": "code",
   "execution_count": 13,
   "id": "1cd1ea07",
   "metadata": {},
   "outputs": [],
   "source": [
    "#Want a few new columns too: \n",
    "df['seconds_played'] = df['ms_played'].apply(lambda ms: ms / 1000)\n",
    "df['hours_played']= df['seconds_played'].apply(lambda s: s / 3600)"
   ]
  },
  {
   "cell_type": "code",
   "execution_count": 14,
   "id": "30020933",
   "metadata": {},
   "outputs": [],
   "source": [
    "df['ts'] = pd.to_datetime(df['ts'])\n",
    "df['month'] = df['ts'].dt.month\n",
    "df['year'] = df['ts'].dt.year"
   ]
  },
  {
   "cell_type": "code",
   "execution_count": 15,
   "id": "471ccf1b",
   "metadata": {},
   "outputs": [
    {
     "data": {
      "text/html": [
       "<div>\n",
       "<style scoped>\n",
       "    .dataframe tbody tr th:only-of-type {\n",
       "        vertical-align: middle;\n",
       "    }\n",
       "\n",
       "    .dataframe tbody tr th {\n",
       "        vertical-align: top;\n",
       "    }\n",
       "\n",
       "    .dataframe thead th {\n",
       "        text-align: right;\n",
       "    }\n",
       "</style>\n",
       "<table border=\"1\" class=\"dataframe\">\n",
       "  <thead>\n",
       "    <tr style=\"text-align: right;\">\n",
       "      <th></th>\n",
       "      <th>ts</th>\n",
       "      <th>platform</th>\n",
       "      <th>ms_played</th>\n",
       "      <th>country</th>\n",
       "      <th>ip_addr_decrypted</th>\n",
       "      <th>track_name</th>\n",
       "      <th>artist_name</th>\n",
       "      <th>album_name</th>\n",
       "      <th>spotify_track_uri</th>\n",
       "      <th>episode_name</th>\n",
       "      <th>episode_show_name</th>\n",
       "      <th>spotify_episode_uri</th>\n",
       "      <th>reason_start</th>\n",
       "      <th>reason_end</th>\n",
       "      <th>shuffle</th>\n",
       "      <th>skipped</th>\n",
       "      <th>seconds_played</th>\n",
       "      <th>hours_played</th>\n",
       "      <th>month</th>\n",
       "      <th>year</th>\n",
       "    </tr>\n",
       "  </thead>\n",
       "  <tbody>\n",
       "    <tr>\n",
       "      <th>0</th>\n",
       "      <td>2016-10-18 02:38:13+00:00</td>\n",
       "      <td>Android OS 6.0.1 API 23 (samsung, SM-G900I)</td>\n",
       "      <td>197400</td>\n",
       "      <td>AU</td>\n",
       "      <td>220.244.175.56</td>\n",
       "      <td>Not a One</td>\n",
       "      <td>The Young Wild</td>\n",
       "      <td>All the Luck</td>\n",
       "      <td>spotify:track:0nspbHlLDeuyRBPF5RkTEB</td>\n",
       "      <td>None</td>\n",
       "      <td>None</td>\n",
       "      <td>None</td>\n",
       "      <td>clickrow</td>\n",
       "      <td>trackdone</td>\n",
       "      <td>True</td>\n",
       "      <td>NaN</td>\n",
       "      <td>197.400</td>\n",
       "      <td>0.054833</td>\n",
       "      <td>10</td>\n",
       "      <td>2016</td>\n",
       "    </tr>\n",
       "    <tr>\n",
       "      <th>1</th>\n",
       "      <td>2016-10-18 02:39:01+00:00</td>\n",
       "      <td>Android OS 6.0.1 API 23 (samsung, SM-G900I)</td>\n",
       "      <td>9504</td>\n",
       "      <td>AU</td>\n",
       "      <td>220.244.175.56</td>\n",
       "      <td>Wish I Knew You</td>\n",
       "      <td>The Revivalists</td>\n",
       "      <td>Men Amongst Mountains</td>\n",
       "      <td>spotify:track:2xWukbn2Ly4grvop0O9umE</td>\n",
       "      <td>None</td>\n",
       "      <td>None</td>\n",
       "      <td>None</td>\n",
       "      <td>trackdone</td>\n",
       "      <td>remote</td>\n",
       "      <td>True</td>\n",
       "      <td>NaN</td>\n",
       "      <td>9.504</td>\n",
       "      <td>0.002640</td>\n",
       "      <td>10</td>\n",
       "      <td>2016</td>\n",
       "    </tr>\n",
       "  </tbody>\n",
       "</table>\n",
       "</div>"
      ],
      "text/plain": [
       "                         ts                                     platform  \\\n",
       "0 2016-10-18 02:38:13+00:00  Android OS 6.0.1 API 23 (samsung, SM-G900I)   \n",
       "1 2016-10-18 02:39:01+00:00  Android OS 6.0.1 API 23 (samsung, SM-G900I)   \n",
       "\n",
       "   ms_played country ip_addr_decrypted       track_name      artist_name  \\\n",
       "0     197400      AU    220.244.175.56        Not a One   The Young Wild   \n",
       "1       9504      AU    220.244.175.56  Wish I Knew You  The Revivalists   \n",
       "\n",
       "              album_name                     spotify_track_uri episode_name  \\\n",
       "0           All the Luck  spotify:track:0nspbHlLDeuyRBPF5RkTEB         None   \n",
       "1  Men Amongst Mountains  spotify:track:2xWukbn2Ly4grvop0O9umE         None   \n",
       "\n",
       "  episode_show_name spotify_episode_uri reason_start reason_end  shuffle  \\\n",
       "0              None                None     clickrow  trackdone     True   \n",
       "1              None                None    trackdone     remote     True   \n",
       "\n",
       "   skipped  seconds_played  hours_played  month  year  \n",
       "0      NaN         197.400      0.054833     10  2016  \n",
       "1      NaN           9.504      0.002640     10  2016  "
      ]
     },
     "execution_count": 15,
     "metadata": {},
     "output_type": "execute_result"
    }
   ],
   "source": [
    "df.head(2)"
   ]
  },
  {
   "cell_type": "markdown",
   "id": "19a62756",
   "metadata": {},
   "source": [
    "# Which country have I streamed most in?"
   ]
  },
  {
   "cell_type": "code",
   "execution_count": 16,
   "id": "5a4ac7b9",
   "metadata": {},
   "outputs": [
    {
     "name": "stdout",
     "output_type": "stream",
     "text": [
      "EE    25076\n",
      "DE    23288\n",
      "AU    10013\n",
      "GB     3071\n",
      "VN      565\n",
      "KH      519\n",
      "FI       57\n",
      "HK       55\n",
      "ZZ       43\n",
      "NL       34\n",
      "PT       26\n",
      "IE       25\n",
      "CY       17\n",
      "MY       15\n",
      "SE       10\n",
      "GE        5\n",
      "CU        1\n",
      "LV        1\n",
      "CZ        1\n",
      "Name: country, dtype: int64\n"
     ]
    }
   ],
   "source": [
    "countries = df['country'].value_counts()\n",
    "print(countries)"
   ]
  },
  {
   "cell_type": "code",
   "execution_count": 17,
   "id": "d273e451",
   "metadata": {},
   "outputs": [
    {
     "data": {
      "text/plain": [
       "19"
      ]
     },
     "execution_count": 17,
     "metadata": {},
     "output_type": "execute_result"
    }
   ],
   "source": [
    "number_of_countries = df['country'].nunique()\n",
    "number_of_countries"
   ]
  },
  {
   "cell_type": "code",
   "execution_count": 18,
   "id": "774a4859",
   "metadata": {},
   "outputs": [
    {
     "data": {
      "text/plain": [
       "<AxesSubplot:xlabel='country', ylabel='count'>"
      ]
     },
     "execution_count": 18,
     "metadata": {},
     "output_type": "execute_result"
    },
    {
     "data": {
      "image/png": "[encoded data removed]",
      "text/plain": [
       "<Figure size 640x480 with 1 Axes>"
      ]
     },
     "metadata": {},
     "output_type": "display_data"
    }
   ],
   "source": [
    "sns.set_theme(style=\"whitegrid\")\n",
    "sns.countplot(x=df['country'], order = df['country'].value_counts().index)"
   ]
  },
  {
   "cell_type": "markdown",
   "id": "7670f870",
   "metadata": {},
   "source": [
    "# 2. Which platform has been my trusty streaming companion the most? "
   ]
  },
  {
   "cell_type": "code",
   "execution_count": 19,
   "id": "6a66857f",
   "metadata": {},
   "outputs": [
    {
     "data": {
      "text/plain": [
       "array(['Android OS 6.0.1 API 23 (samsung, SM-G900I)',\n",
       "       'OS X 10.11.6 [x86 4]', 'Windows 10 (10.0.14393; x64)',\n",
       "       'Windows 10 (10.0.16299; x64)',\n",
       "       'Windows 10 (10.0.16299; x64; AppX)',\n",
       "       'Android OS 5.1.1 API 22 (OnePlus, ONE E1003)',\n",
       "       'Android OS 7.0 API 24 (ZTE, ZTE BLADE A612)',\n",
       "       'Partner spotify web_player', 'iOS 12.0.1 (iPhone7,2)',\n",
       "       'iOS 12.1.2 (iPhone7,2)',\n",
       "       'web_player windows 10;chrome 72.0;desktop',\n",
       "       'web_player windows 10;chrome 72.0.3626.121;embed',\n",
       "       'iOS 12.1.4 (iPhone7,2)', 'iOS 12.2 (iPhone7,2)',\n",
       "       'web_player windows 10;chrome 74.0.3729.131;embed',\n",
       "       'iOS 12.3.1 (iPhone7,2)',\n",
       "       'web_player windows 10;chrome 75.0.3770.100;embed',\n",
       "       'web_player windows 10;chrome 75.0.3770.142;desktop',\n",
       "       'Android-tablet OS 4.4.2 API 19 (samsung, SM-T230NU)',\n",
       "       'iOS 12.4.1 (iPhone7,2)', 'iOS 12.4.3 (iPhone7,2)',\n",
       "       'web_player windows 10;chrome 79.0.3945.130;desktop',\n",
       "       'web_player windows 10;chrome 80.0.3987.149;desktop',\n",
       "       'iOS 12.4.6 (iPhone7,2)',\n",
       "       'web_player windows 10;chrome 80.0.3987.163;desktop',\n",
       "       'web_player windows 10;chrome 80.0.3987.163;embed',\n",
       "       'OS X 10.15.4 [x86 8]',\n",
       "       'web_player osx 10.15.4;chrome 81.0.4044.122;desktop',\n",
       "       'web_player windows 10;chrome 83.0.4103.116;desktop',\n",
       "       'OS X 10.15.5 [x86 8]',\n",
       "       'web_player windows 10;chrome 84.0.4147.125;desktop',\n",
       "       'web_player osx 10.15.6;chrome 84.0.4147.125;desktop',\n",
       "       'web_player windows 10;chrome 84.0.4147.135;desktop',\n",
       "       'Partner raumfeld_imx7 Teufel;Teufel_One_M;6828677780fa4f86b8edc4192fbb4d16;;tpapi',\n",
       "       'Android OS 10 API 29 (Fairphone, FP3)',\n",
       "       'web_player windows 10;chrome 86.0.4240.183;desktop',\n",
       "       'web_player windows 10;chrome 87.0.4280.88;desktop',\n",
       "       'OS X 10.15.7 [x86 8]',\n",
       "       'web_player windows 10;chrome 98.0.4758.82;desktop',\n",
       "       'web_player windows 10;chrome 99.0.4844.51;embed',\n",
       "       'Partner google cast_tv;Chromecast;;5.15.0--1.56.500000',\n",
       "       'Partner google cast_tv;Chromecast;;5.16.3--1.56.500000',\n",
       "       'android', 'cast', 'osx', 'not_applicable'], dtype=object)"
      ]
     },
     "execution_count": 19,
     "metadata": {},
     "output_type": "execute_result"
    }
   ],
   "source": [
    "df['platform'].unique()"
   ]
  },
  {
   "cell_type": "markdown",
   "id": "1a54bfa2",
   "metadata": {},
   "source": [
    "Ok yuk. That's so messy. \n",
    "Ineed to map them out a bit using regex to \n",
    "1. group the same device but a different version eg web player windows 10 embed is the same as web player windows 10 desktop\n",
    "2. group one machine but sometimes using the app and sometimes using the web version (ie laptop before I could be bothered to get IT permission to download the app.)"
   ]
  },
  {
   "cell_type": "code",
   "execution_count": 20,
   "id": "7cf57c39",
   "metadata": {},
   "outputs": [],
   "source": [
    "platform_mapping = {\n",
    "    r'^Partner google cast_tv.*': 'Chromecast',\n",
    "    r'^cast.*' : 'Chromecast',\n",
    "    r'^web_player windows 10.*': 'Work Laptop',\n",
    "    r'^Windows 10.*': 'Work Laptop',\n",
    "    r'^Partner raumfeld.*': 'Teufel Stereo',\n",
    "    r'^web_player osx.*': 'Personal Mac',\n",
    "    r'^OS X.*': 'Personal Mac',\n",
    "    r'^iOS.*': 'iPhone',\n",
    "    r'.*samsung.*': 'Samsung Phone',\n",
    "    r'.*OnePlus.*': 'OnePlus Phone',\n",
    "    r'.*ZTE BLADE.*': 'ZTE phone',\n",
    "    r'.*Fairphone.*': 'Fairphone',\n",
    "    r'Android-tablet.*': 'Android Tablet',\n",
    "    'android': 'Android Other',\n",
    "    'osx': 'Mac Other',\n",
    "    'Partner spotify web_player': 'Web Other',\n",
    "    'not_applicable': 'Unknown'\n",
    "}"
   ]
  },
  {
   "cell_type": "code",
   "execution_count": 21,
   "id": "d8d821b4",
   "metadata": {},
   "outputs": [],
   "source": [
    "df['platform'] = df['platform'].replace(platform_mapping, regex = True)"
   ]
  },
  {
   "cell_type": "code",
   "execution_count": 22,
   "id": "6d98b22f",
   "metadata": {
    "scrolled": true
   },
   "outputs": [
    {
     "data": {
      "text/plain": [
       "array(['Samsung Phone', 'Personal Mac', 'Work Laptop', 'OnePlus Phone',\n",
       "       'ZTE phone', 'Web Other', 'iPhone', 'Teufel Stereo', 'Fairphone',\n",
       "       'Chromecast', 'Android Other', 'Mac Other', 'Unknown'],\n",
       "      dtype=object)"
      ]
     },
     "execution_count": 22,
     "metadata": {},
     "output_type": "execute_result"
    }
   ],
   "source": [
    "df['platform'].unique()"
   ]
  },
  {
   "cell_type": "code",
   "execution_count": 23,
   "id": "cf5be931",
   "metadata": {},
   "outputs": [],
   "source": [
    "#much better"
   ]
  },
  {
   "cell_type": "code",
   "execution_count": 24,
   "id": "b18f0c82",
   "metadata": {},
   "outputs": [
    {
     "data": {
      "text/plain": [
       "Work Laptop      21270\n",
       "Samsung Phone    12844\n",
       "Fairphone         8690\n",
       "ZTE phone         4925\n",
       "iPhone            3438\n",
       "Chromecast        3006\n",
       "Teufel Stereo     2832\n",
       "Android Other     2399\n",
       "Personal Mac      1972\n",
       "Unknown           1213\n",
       "Mac Other          128\n",
       "OnePlus Phone      104\n",
       "Name: platform, dtype: int64"
      ]
     },
     "execution_count": 24,
     "metadata": {},
     "output_type": "execute_result"
    }
   ],
   "source": [
    "platform_counts = df['platform'].value_counts()\n",
    "min_count = 100\n",
    "filtered_platforms = platform_counts[platform_counts >= min_count]\n",
    "filtered_platforms"
   ]
  },
  {
   "cell_type": "code",
   "execution_count": 25,
   "id": "5f5084d0",
   "metadata": {},
   "outputs": [
    {
     "data": {
      "text/plain": [
       "(array([ 0,  1,  2,  3,  4,  5,  6,  7,  8,  9, 10, 11]),\n",
       " [Text(0, 0, 'Work Laptop'),\n",
       "  Text(1, 0, 'Samsung Phone'),\n",
       "  Text(2, 0, 'Fairphone'),\n",
       "  Text(3, 0, 'ZTE phone'),\n",
       "  Text(4, 0, 'iPhone'),\n",
       "  Text(5, 0, 'Chromecast'),\n",
       "  Text(6, 0, 'Teufel Stereo'),\n",
       "  Text(7, 0, 'Android Other'),\n",
       "  Text(8, 0, 'Personal Mac'),\n",
       "  Text(9, 0, 'Unknown'),\n",
       "  Text(10, 0, 'Mac Other'),\n",
       "  Text(11, 0, 'OnePlus Phone')])"
      ]
     },
     "execution_count": 25,
     "metadata": {},
     "output_type": "execute_result"
    },
    {
     "data": {
      "image/png": "[encoded data removed]",
      "text/plain": [
       "<Figure size 640x480 with 1 Axes>"
      ]
     },
     "metadata": {},
     "output_type": "display_data"
    }
   ],
   "source": [
    "#sns.countplot(x=df.['platform'])\n",
    "sns.set_theme(style=\"whitegrid\")\n",
    "new_graph = sns.countplot(x=df['platform'], order=filtered_platforms.index)\n",
    "new_graph.set(xlabel =\"Platform\", ylabel = \"Stream Count\", title ='Plays by top platforms')\n",
    "plt.xticks(rotation=70) # bit of a squiffy little angle but whatever"
   ]
  },
  {
   "cell_type": "markdown",
   "id": "1e2f5bad",
   "metadata": {},
   "source": [
    "Conclusion: Thanks trusty work laptop! \n",
    "This was my laptop provided by work but I also used it as my person laptop for a while as I didn't have one, and would leave it open on my desk after working from home and just keep playing music from it, so not all that surprised that's the winner. \n",
    "Estonia is the winner likely because I listened to Spotify most days during work, although DE is a surprising contender considering I have only liked here a year. "
   ]
  },
  {
   "cell_type": "markdown",
   "id": "5cd5b792",
   "metadata": {},
   "source": [
    "# 3. Top artist information - by country and by year"
   ]
  },
  {
   "cell_type": "markdown",
   "id": "870797b7",
   "metadata": {},
   "source": [
    "### Top 10 artists"
   ]
  },
  {
   "cell_type": "markdown",
   "id": "58fafd37",
   "metadata": {},
   "source": [
    "Top 10"
   ]
  },
  {
   "cell_type": "code",
   "execution_count": 26,
   "id": "a7e81bf0",
   "metadata": {},
   "outputs": [
    {
     "name": "stdout",
     "output_type": "stream",
     "text": [
      "The Tallest Man On Earth    1623\n",
      "John Butler Trio            1506\n",
      "Nick Drake                  1371\n",
      "Frank Turner                1134\n",
      "Tom Waits                   1098\n",
      "Vulfpeck                     944\n",
      "Iron & Wine                  784\n",
      "Tom Misch                    656\n",
      "Isak Strand vs. TOE          537\n",
      "Name: artist_name, dtype: int64\n"
     ]
    }
   ],
   "source": [
    "artist_counts = df['artist_name'].value_counts()\n",
    "min_to_care = 100\n",
    "more_than_100 = artist_counts[artist_counts >= min_count]\n",
    "top_10 = more_than_100.iloc[:9]\n",
    "print(top_10)"
   ]
  },
  {
   "cell_type": "markdown",
   "id": "bd865c24",
   "metadata": {},
   "source": [
    "Top of all time"
   ]
  },
  {
   "cell_type": "code",
   "execution_count": 27,
   "id": "b3572c85",
   "metadata": {},
   "outputs": [
    {
     "data": {
      "text/plain": [
       "1623"
      ]
     },
     "execution_count": 27,
     "metadata": {},
     "output_type": "execute_result"
    }
   ],
   "source": [
    "top_artist_name = artist_counts.iloc[0]\n",
    "#top_song_playcount = top_songs['play_count'].iloc[0]\n",
    "#leading_by = top_song_playcount['play_count'].iloc[0] - top_songs['play_count'].iloc[1]\n",
    "#second_best = top_song_playcount['index'].iloc[1]\n",
    "#second_best_playcount = top_songs['play_count'].iloc[1]\n",
    "\n",
    "top_artist_name"
   ]
  },
  {
   "cell_type": "code",
   "execution_count": 28,
   "id": "dd05edcc",
   "metadata": {},
   "outputs": [
    {
     "data": {
      "text/plain": [
       "([0, 1, 2, 3, 4, 5, 6, 7, 8],\n",
       " [Text(0, 0, ''),\n",
       "  Text(0, 0, ''),\n",
       "  Text(0, 0, ''),\n",
       "  Text(0, 0, ''),\n",
       "  Text(0, 0, ''),\n",
       "  Text(0, 0, ''),\n",
       "  Text(0, 0, ''),\n",
       "  Text(0, 0, ''),\n",
       "  Text(0, 0, '')])"
      ]
     },
     "execution_count": 28,
     "metadata": {},
     "output_type": "execute_result"
    },
    {
     "data": {
      "image/png": "[encoded data removed]",
      "text/plain": [
       "<Figure size 640x480 with 1 Axes>"
      ]
     },
     "metadata": {},
     "output_type": "display_data"
    }
   ],
   "source": [
    "plt.bar(top_10.index, top_10.values)\n",
    "plt.xlabel('Artist')\n",
    "plt.ylabel('Play Count')\n",
    "plt.title('Top 10 Artists with More than 100 Plays')\n",
    "plt.xticks(rotation=90)"
   ]
  },
  {
   "cell_type": "markdown",
   "id": "eebabb72",
   "metadata": {},
   "source": [
    "Conclusion: \n",
    "Dammit, why are they all men. Anyway, none of them are a surprise. I don't actually like Iron and Wine that much but they were on one of my sleep playlists so I listened to them a LOT because of that. The rest are on it because they are great, so can't argue with that. I am quite surprised at the perfect stepwise distribution though. \n",
    "Let's dig into it further and see more about my top artists and where they changed over time. "
   ]
  },
  {
   "cell_type": "markdown",
   "id": "833feb8b",
   "metadata": {},
   "source": [
    "### Top artists by country"
   ]
  },
  {
   "cell_type": "code",
   "execution_count": 29,
   "id": "fcf42355",
   "metadata": {},
   "outputs": [
    {
     "name": "stdout",
     "output_type": "stream",
     "text": [
      "country  artist_name             \n",
      "AU       The Tallest Man On Earth    857\n",
      "         Nick Drake                  798\n",
      "         Tom Waits                   648\n",
      "         John Butler Trio            590\n",
      "         Iron & Wine                 501\n",
      "                                    ... \n",
      "ZZ       MC Licia                      1\n",
      "         MC5                           1\n",
      "         Matthew Dear                  1\n",
      "         Oh Wonder                     1\n",
      "         The Whitest Boy Alive         1\n",
      "Name: artist_name, Length: 9804, dtype: int64\n"
     ]
    }
   ],
   "source": [
    "countries_group = df.groupby(['country'])\n",
    "top_artists_by_country = countries_group['artist_name'].value_counts()\n",
    "print(top_artists_by_country)"
   ]
  },
  {
   "cell_type": "code",
   "execution_count": 30,
   "id": "3803f8b6",
   "metadata": {
    "scrolled": true
   },
   "outputs": [
    {
     "data": {
      "text/plain": [
       "country  country  artist_name                     \n",
       "AU       AU       The Tallest Man On Earth            857\n",
       "                  Nick Drake                          798\n",
       "                  Tom Waits                           648\n",
       "                  John Butler Trio                    590\n",
       "                  Iron & Wine                         501\n",
       "CU       CU       Allman Brothers Band                  1\n",
       "CY       CY       The Tallest Man On Earth              6\n",
       "                  Iron & Wine                           3\n",
       "                  Tom Waits                             2\n",
       "                  Elliott Smith                         1\n",
       "                  John Butler Trio                      1\n",
       "CZ       CZ       Reuben James                          1\n",
       "DE       DE       Tom Misch                           329\n",
       "                  Vulfpeck                            298\n",
       "                  King Gizzard & The Lizard Wizard    270\n",
       "                  John Butler Trio                    253\n",
       "                  Buena Vista Social Club             168\n",
       "EE       EE       Vulfpeck                            583\n",
       "                  Frank Turner                        551\n",
       "                  The Tallest Man On Earth            524\n",
       "                  John Butler Trio                    512\n",
       "                  Isak Strand vs. TOE                 357\n",
       "FI       FI       Wolfgang Amadeus Mozart              55\n",
       "                  Franz Schubert                        2\n",
       "GB       GB       Frank Turner                        148\n",
       "                  John Butler Trio                    116\n",
       "                  Nick Drake                          102\n",
       "                  The Tallest Man On Earth             94\n",
       "                  Fat Freddy's Drop                    92\n",
       "GE       GE       Wild Rivers                           3\n",
       "                  Elliott Smith                         2\n",
       "HK       HK       Jackson C. Frank                     11\n",
       "                  Alela Diane                           8\n",
       "                  Blaze Foley                           5\n",
       "                  Bridget St John                       5\n",
       "                  Julie Byrne                           5\n",
       "IE       IE       Jackson C. Frank                     15\n",
       "                  John Butler Trio                      2\n",
       "                  Fat Freddy's Drop                     1\n",
       "                  Jack White                            1\n",
       "                  The Saboteurs                         1\n",
       "KH       KH       Nick Drake                          116\n",
       "                  Jackson C. Frank                     37\n",
       "                  The Tallest Man On Earth             31\n",
       "                  Tim Buckley                          28\n",
       "                  Tom Waits                            27\n",
       "LV       LV       Seal                                  1\n",
       "MY       MY       Nick Drake                           14\n",
       "                  Karen Dalton                          1\n",
       "NL       NL       Tom Waits                             6\n",
       "                  Iron & Wine                           5\n",
       "                  The Tallest Man On Earth              3\n",
       "                  Bob Dylan                             1\n",
       "                  Christy Moore                         1\n",
       "PT       PT       Frank Turner                          6\n",
       "                  John Butler Trio                      5\n",
       "                  Nickel Creek                          2\n",
       "                  Admiral Fallow                        1\n",
       "                  Eddie Vedder                          1\n",
       "SE       SE       John Butler Trio                      1\n",
       "                  The Teskey Brothers                   1\n",
       "VN       VN       Nick Drake                          111\n",
       "                  Mumford & Sons                       91\n",
       "                  Jackson C. Frank                     58\n",
       "                  The Tallest Man On Earth             38\n",
       "                  Tom Waits                            29\n",
       "ZZ       ZZ       Silent Poets                         10\n",
       "                  Antilopen Gang                        6\n",
       "                  Cory Henry                            4\n",
       "                  Moop Mama                             4\n",
       "                  Chuck Ragan                           3\n",
       "Name: artist_name, dtype: int64"
      ]
     },
     "execution_count": 30,
     "metadata": {},
     "output_type": "execute_result"
    }
   ],
   "source": [
    "#groupby level 0 is really important here, otherwise I just get top 5 total, instead of top 5 per country.\n",
    "pd.set_option('display.max_rows', None)\n",
    "#pd.reset_option('display.max_rows') to turn off the max rown if you want\n",
    "top_5_artists_by_country = top_artists_by_country.groupby(level=0).nlargest(5)\n",
    "top_5_artists_by_country"
   ]
  },
  {
   "cell_type": "code",
   "execution_count": 31,
   "id": "14e6e5ee",
   "metadata": {},
   "outputs": [],
   "source": [
    "#I want to but have struggled with making this subplots, one for each country. "
   ]
  },
  {
   "cell_type": "markdown",
   "id": "210e5471",
   "metadata": {},
   "source": [
    "### Top artist by year"
   ]
  },
  {
   "cell_type": "code",
   "execution_count": 32,
   "id": "117472cf",
   "metadata": {},
   "outputs": [
    {
     "data": {
      "text/html": [
       "<div>\n",
       "<style scoped>\n",
       "    .dataframe tbody tr th:only-of-type {\n",
       "        vertical-align: middle;\n",
       "    }\n",
       "\n",
       "    .dataframe tbody tr th {\n",
       "        vertical-align: top;\n",
       "    }\n",
       "\n",
       "    .dataframe thead th {\n",
       "        text-align: right;\n",
       "    }\n",
       "</style>\n",
       "<table border=\"1\" class=\"dataframe\">\n",
       "  <thead>\n",
       "    <tr style=\"text-align: right;\">\n",
       "      <th></th>\n",
       "      <th>ts</th>\n",
       "      <th>platform</th>\n",
       "      <th>ms_played</th>\n",
       "      <th>country</th>\n",
       "      <th>ip_addr_decrypted</th>\n",
       "      <th>track_name</th>\n",
       "      <th>artist_name</th>\n",
       "      <th>album_name</th>\n",
       "      <th>spotify_track_uri</th>\n",
       "      <th>episode_name</th>\n",
       "      <th>episode_show_name</th>\n",
       "      <th>spotify_episode_uri</th>\n",
       "      <th>reason_start</th>\n",
       "      <th>reason_end</th>\n",
       "      <th>shuffle</th>\n",
       "      <th>skipped</th>\n",
       "      <th>seconds_played</th>\n",
       "      <th>hours_played</th>\n",
       "      <th>month</th>\n",
       "      <th>year</th>\n",
       "    </tr>\n",
       "  </thead>\n",
       "  <tbody>\n",
       "    <tr>\n",
       "      <th>0</th>\n",
       "      <td>2016-10-18 02:38:13+00:00</td>\n",
       "      <td>Samsung Phone</td>\n",
       "      <td>197400</td>\n",
       "      <td>AU</td>\n",
       "      <td>220.244.175.56</td>\n",
       "      <td>Not a One</td>\n",
       "      <td>The Young Wild</td>\n",
       "      <td>All the Luck</td>\n",
       "      <td>spotify:track:0nspbHlLDeuyRBPF5RkTEB</td>\n",
       "      <td>None</td>\n",
       "      <td>None</td>\n",
       "      <td>None</td>\n",
       "      <td>clickrow</td>\n",
       "      <td>trackdone</td>\n",
       "      <td>True</td>\n",
       "      <td>NaN</td>\n",
       "      <td>197.400</td>\n",
       "      <td>0.054833</td>\n",
       "      <td>10</td>\n",
       "      <td>2016</td>\n",
       "    </tr>\n",
       "    <tr>\n",
       "      <th>1</th>\n",
       "      <td>2016-10-18 02:39:01+00:00</td>\n",
       "      <td>Samsung Phone</td>\n",
       "      <td>9504</td>\n",
       "      <td>AU</td>\n",
       "      <td>220.244.175.56</td>\n",
       "      <td>Wish I Knew You</td>\n",
       "      <td>The Revivalists</td>\n",
       "      <td>Men Amongst Mountains</td>\n",
       "      <td>spotify:track:2xWukbn2Ly4grvop0O9umE</td>\n",
       "      <td>None</td>\n",
       "      <td>None</td>\n",
       "      <td>None</td>\n",
       "      <td>trackdone</td>\n",
       "      <td>remote</td>\n",
       "      <td>True</td>\n",
       "      <td>NaN</td>\n",
       "      <td>9.504</td>\n",
       "      <td>0.002640</td>\n",
       "      <td>10</td>\n",
       "      <td>2016</td>\n",
       "    </tr>\n",
       "  </tbody>\n",
       "</table>\n",
       "</div>"
      ],
      "text/plain": [
       "                         ts       platform  ms_played country  \\\n",
       "0 2016-10-18 02:38:13+00:00  Samsung Phone     197400      AU   \n",
       "1 2016-10-18 02:39:01+00:00  Samsung Phone       9504      AU   \n",
       "\n",
       "  ip_addr_decrypted       track_name      artist_name             album_name  \\\n",
       "0    220.244.175.56        Not a One   The Young Wild           All the Luck   \n",
       "1    220.244.175.56  Wish I Knew You  The Revivalists  Men Amongst Mountains   \n",
       "\n",
       "                      spotify_track_uri episode_name episode_show_name  \\\n",
       "0  spotify:track:0nspbHlLDeuyRBPF5RkTEB         None              None   \n",
       "1  spotify:track:2xWukbn2Ly4grvop0O9umE         None              None   \n",
       "\n",
       "  spotify_episode_uri reason_start reason_end  shuffle  skipped  \\\n",
       "0                None     clickrow  trackdone     True      NaN   \n",
       "1                None    trackdone     remote     True      NaN   \n",
       "\n",
       "   seconds_played  hours_played  month  year  \n",
       "0         197.400      0.054833     10  2016  \n",
       "1           9.504      0.002640     10  2016  "
      ]
     },
     "execution_count": 32,
     "metadata": {},
     "output_type": "execute_result"
    }
   ],
   "source": [
    "df.head(2)"
   ]
  },
  {
   "cell_type": "code",
   "execution_count": 33,
   "id": "aad01412",
   "metadata": {},
   "outputs": [],
   "source": [
    "df = df.drop(df[df['artist_name'] == 'F. Scott Fitzgerald'].index)"
   ]
  },
  {
   "cell_type": "code",
   "execution_count": 34,
   "id": "cdb01232",
   "metadata": {},
   "outputs": [
    {
     "name": "stdout",
     "output_type": "stream",
     "text": [
      "year  year  artist_name                       \n",
      "2016  2016  Iron & Wine                              9\n",
      "            John Butler Trio                         9\n",
      "            Tom Waits                                9\n",
      "            The Raconteurs                           8\n",
      "            Pierluigi Ferrantini                     7\n",
      "2017  2017  Nick Drake                            1136\n",
      "            The Tallest Man On Earth               961\n",
      "            Tom Waits                              745\n",
      "            John Butler Trio                       697\n",
      "            Iron & Wine                            562\n",
      "2018  2018  John Butler Trio                       501\n",
      "            Frank Turner                           453\n",
      "            Wolfgang Amadeus Mozart                366\n",
      "            Isak Strand vs. TOE                    289\n",
      "            The Tallest Man On Earth               252\n",
      "2019  2019  Tom Misch                              440\n",
      "            CAKE                                   215\n",
      "            John Butler Trio                       176\n",
      "            Anderson .Paak                         172\n",
      "            The Saboteurs                          143\n",
      "2020  2020  Vulfpeck                               492\n",
      "            Captain Beefheart & His Magic Band     120\n",
      "            Rubblebucket                           117\n",
      "            Jacob Collier                          115\n",
      "            Tom Waits                               91\n",
      "2021  2021  Biig Piig                              196\n",
      "            Vulfpeck                               175\n",
      "            Khruangbin                              90\n",
      "            The Tallest Man On Earth                73\n",
      "            Herbie Hancock                          54\n",
      "2022  2022  Conor Albert                           144\n",
      "            Quinn Oulton                           129\n",
      "            Biig Piig                              120\n",
      "            Vulfpeck                               114\n",
      "            Pearl Jam                               93\n",
      "2023  2023  Sylvan Esso                            164\n",
      "            Quinn Oulton                            89\n",
      "            John Martyn                             68\n",
      "            Olivia Dean                             49\n",
      "            Taylor Swift                            48\n",
      "Name: artist_name, dtype: int64\n"
     ]
    }
   ],
   "source": [
    "year_group = df.groupby(['year'])\n",
    "top_artists_by_year = year_group['artist_name'].value_counts()\n",
    "top_5_artists_by_year = top_artists_by_year.groupby(level=0).nlargest(5)\n",
    "print(top_5_artists_by_year)"
   ]
  },
  {
   "cell_type": "markdown",
   "id": "92386edf",
   "metadata": {},
   "source": [
    "I will eventually graph this, I want subplots bar charts for the streams over time, and a line graph with each year as its own line. Month on the x axis, year as the line, and playcount total on the y axis. "
   ]
  },
  {
   "cell_type": "markdown",
   "id": "1b2991c4",
   "metadata": {},
   "source": [
    "### 4. Top song of all time, top 10, top by country, top by year. "
   ]
  },
  {
   "cell_type": "markdown",
   "id": "bf9791c0",
   "metadata": {},
   "source": [
    "Top 10:"
   ]
  },
  {
   "cell_type": "code",
   "execution_count": 35,
   "id": "0ea13d06",
   "metadata": {},
   "outputs": [
    {
     "name": "stdout",
     "output_type": "stream",
     "text": [
      "                  index  play_count\n",
      "0  The Way I Tend To Be         225\n",
      "1              Hard Sun         175\n",
      "2           Better Than         165\n",
      "3          Soul Singing         143\n",
      "4             Pink Moon         141\n",
      "5          The Gardener         137\n",
      "6           Back Pocket         132\n",
      "7           Feels Right         132\n",
      "8             Ooh La La         131\n",
      "9  Peggy Sang The Blues         130\n"
     ]
    }
   ],
   "source": [
    "#Top song of all time: \n",
    "top_songs = df['track_name'].value_counts().reset_index(name='play_count')\n",
    "print(top_songs.head(10))"
   ]
  },
  {
   "cell_type": "code",
   "execution_count": 36,
   "id": "4d50b288",
   "metadata": {},
   "outputs": [],
   "source": [
    "top_song_name = top_songs['index'].iloc[0]\n",
    "top_song_playcount = top_songs['play_count'].iloc[0]\n",
    "leading_by = top_songs['play_count'].iloc[0] - top_songs['play_count'].iloc[1]\n",
    "second_best = top_songs['index'].iloc[1]\n",
    "second_best_playcount = top_songs['play_count'].iloc[1]"
   ]
  },
  {
   "cell_type": "markdown",
   "id": "06332b84",
   "metadata": {},
   "source": [
    "Top of all time"
   ]
  },
  {
   "cell_type": "code",
   "execution_count": 37,
   "id": "e74b1d5f",
   "metadata": {},
   "outputs": [
    {
     "name": "stdout",
     "output_type": "stream",
     "text": [
      "My top song of all time is The Way I Tend To Be with 225 plays, leading by 50 plays over Hard Sun, with 175 plays\n"
     ]
    }
   ],
   "source": [
    "print(f'My top song of all time is {top_song_name} with {top_song_playcount} plays, leading by {leading_by} plays over {second_best}, with {second_best_playcount} plays')"
   ]
  },
  {
   "cell_type": "code",
   "execution_count": 38,
   "id": "edede542",
   "metadata": {},
   "outputs": [],
   "source": [
    "# so hard doing this because I want to go listen to all the songs."
   ]
  },
  {
   "cell_type": "code",
   "execution_count": 39,
   "id": "a916aea8",
   "metadata": {},
   "outputs": [],
   "source": [
    "#top artists by country\n",
    "countries_group = df.groupby(['country'])\n",
    "top_artists_by_country = countries_group['artist_name'].value_counts()\n",
    "top_5_artists_by_country = top_artists_by_country.groupby(level=0).nlargest(5)"
   ]
  },
  {
   "cell_type": "markdown",
   "id": "1140ce8c",
   "metadata": {},
   "source": [
    "Top artists by country"
   ]
  },
  {
   "cell_type": "code",
   "execution_count": 40,
   "id": "7ad48080",
   "metadata": {},
   "outputs": [
    {
     "data": {
      "text/plain": [
       "country  country  artist_name                     \n",
       "AU       AU       The Tallest Man On Earth            823\n",
       "                  Nick Drake                          798\n",
       "                  Tom Waits                           640\n",
       "                  John Butler Trio                    582\n",
       "                  Iron & Wine                         499\n",
       "CU       CU       Allman Brothers Band                  1\n",
       "CY       CY       The Tallest Man On Earth              6\n",
       "                  Iron & Wine                           3\n",
       "                  Tom Waits                             2\n",
       "                  Elliott Smith                         1\n",
       "                  John Butler Trio                      1\n",
       "CZ       CZ       Reuben James                          1\n",
       "DE       DE       Tom Misch                           328\n",
       "                  Vulfpeck                            298\n",
       "                  King Gizzard & The Lizard Wizard    270\n",
       "                  John Butler Trio                    253\n",
       "                  Buena Vista Social Club             168\n",
       "EE       EE       Vulfpeck                            583\n",
       "                  Frank Turner                        551\n",
       "                  The Tallest Man On Earth            524\n",
       "                  John Butler Trio                    504\n",
       "                  Isak Strand vs. TOE                 357\n",
       "FI       FI       Wolfgang Amadeus Mozart              55\n",
       "                  Franz Schubert                        2\n",
       "GB       GB       Frank Turner                        142\n",
       "                  John Butler Trio                    116\n",
       "                  Nick Drake                          102\n",
       "                  The Tallest Man On Earth             94\n",
       "                  Fat Freddy's Drop                    83\n",
       "GE       GE       Wild Rivers                           3\n",
       "                  Elliott Smith                         2\n",
       "HK       HK       Jackson C. Frank                     11\n",
       "                  Alela Diane                           8\n",
       "                  Blaze Foley                           5\n",
       "                  Bridget St John                       5\n",
       "                  Julie Byrne                           5\n",
       "IE       IE       Jackson C. Frank                     15\n",
       "                  John Butler Trio                      2\n",
       "                  Fat Freddy's Drop                     1\n",
       "                  Jack White                            1\n",
       "                  The Saboteurs                         1\n",
       "KH       KH       Nick Drake                          116\n",
       "                  Jackson C. Frank                     37\n",
       "                  The Tallest Man On Earth             31\n",
       "                  Tim Buckley                          28\n",
       "                  Tom Waits                            27\n",
       "LV       LV       Seal                                  1\n",
       "MY       MY       Nick Drake                           14\n",
       "                  Karen Dalton                          1\n",
       "NL       NL       Tom Waits                             6\n",
       "                  Iron & Wine                           5\n",
       "                  The Tallest Man On Earth              3\n",
       "                  Bob Dylan                             1\n",
       "                  Christy Moore                         1\n",
       "PT       PT       Frank Turner                          6\n",
       "                  John Butler Trio                      5\n",
       "                  Nickel Creek                          2\n",
       "                  Admiral Fallow                        1\n",
       "                  Eddie Vedder                          1\n",
       "SE       SE       John Butler Trio                      1\n",
       "                  The Teskey Brothers                   1\n",
       "VN       VN       Nick Drake                          111\n",
       "                  Mumford & Sons                       91\n",
       "                  Jackson C. Frank                     58\n",
       "                  The Tallest Man On Earth             38\n",
       "                  Tom Waits                            29\n",
       "ZZ       ZZ       Silent Poets                         10\n",
       "                  Antilopen Gang                        6\n",
       "                  Cory Henry                            4\n",
       "                  Moop Mama                             4\n",
       "                  Chuck Ragan                           3\n",
       "Name: artist_name, dtype: int64"
      ]
     },
     "execution_count": 40,
     "metadata": {},
     "output_type": "execute_result"
    }
   ],
   "source": [
    "top_5_artists_by_country"
   ]
  },
  {
   "cell_type": "markdown",
   "id": "ec3780ee",
   "metadata": {},
   "source": [
    "Top songs by country"
   ]
  },
  {
   "cell_type": "code",
   "execution_count": 41,
   "id": "127ea1ad",
   "metadata": {},
   "outputs": [
    {
     "ename": "NameError",
     "evalue": "name 'top_10_songs_by_country' is not defined",
     "output_type": "error",
     "traceback": [
      "\u001b[0;31m---------------------------------------------------------------------------\u001b[0m",
      "\u001b[0;31mNameError\u001b[0m                                 Traceback (most recent call last)",
      "\u001b[0;32m/var/folders/kh/h0ddznzx2gddttr7vpknb06h0000gn/T/ipykernel_1754/1519244445.py\u001b[0m in \u001b[0;36m<module>\u001b[0;34m\u001b[0m\n\u001b[0;32m----> 1\u001b[0;31m \u001b[0mtop_10_songs_by_country\u001b[0m\u001b[0;34m\u001b[0m\u001b[0;34m\u001b[0m\u001b[0m\n\u001b[0m",
      "\u001b[0;31mNameError\u001b[0m: name 'top_10_songs_by_country' is not defined"
     ]
    }
   ],
   "source": [
    "top_10_songs_by_country"
   ]
  },
  {
   "cell_type": "code",
   "execution_count": null,
   "id": "d56dfaf3",
   "metadata": {
    "scrolled": false
   },
   "outputs": [],
   "source": [
    "#top songsby year\n",
    "songs_by_year = pd.DataFrame(year_group['track_name'].value_counts()).rename({'track_name':'hi'})\n",
    "songs_by_year.head(10)"
   ]
  },
  {
   "cell_type": "code",
   "execution_count": null,
   "id": "1097becb",
   "metadata": {},
   "outputs": [],
   "source": []
  },
  {
   "cell_type": "code",
   "execution_count": null,
   "id": "1a89f164",
   "metadata": {},
   "outputs": [],
   "source": [
    "play_count_by_year_month = df.groupby(['year', 'month'])['hours_played'].sum()\n",
    "play_count_by_year_month"
   ]
  },
  {
   "cell_type": "code",
   "execution_count": null,
   "id": "305c7167",
   "metadata": {},
   "outputs": [],
   "source": [
    "for year, data in play_count_by_year_month.groupby(level=0):\n",
    "    plt.plot(data.index.get_level_values(1), data.values, label=str(year))\n",
    "\n",
    "plt.xlabel('Month')\n",
    "plt.ylabel('Total Play Count')\n",
    "plt.legend(title='Year', loc='best')\n",
    "plt.title('Total Play Count by Month and Year')\n",
    "plt.grid(True)\n",
    "plt.show()\n"
   ]
  },
  {
   "cell_type": "code",
   "execution_count": null,
   "id": "2db26c42",
   "metadata": {},
   "outputs": [],
   "source": [
    "year_group['track_name'].value_counts()"
   ]
  },
  {
   "cell_type": "code",
   "execution_count": null,
   "id": "fba2e3f3",
   "metadata": {},
   "outputs": [],
   "source": [
    "fig, axs = plt.subplots(nrows=len(play_count_by_year_month.index.levels[0]), ncols=1, figsize=(8, 5 * len(play_count_by_year_month.index.levels[0])), sharex=True)\n",
    "\n",
    "# Plot data for each year in its respective subplot\n",
    "for i, (year, data) in enumerate(play_count_by_year_month.groupby(level=0)):\n",
    "    axs[i].plot(data.index.get_level_values(1), data.values)\n",
    "    axs[i].set_ylabel('Total Play Count: Hours')\n",
    "    axs[i].set_title(f'Total Play Count by Month - {year}')\n",
    "\n",
    "# Set common x-axis label and grid\n",
    "plt.xlabel('Month')\n",
    "plt.grid(True)\n",
    "\n",
    "# Show the plot\n",
    "plt.show()\n"
   ]
  },
  {
   "cell_type": "code",
   "execution_count": null,
   "id": "53eb520f",
   "metadata": {},
   "outputs": [],
   "source": [
    "#Year with the largest playcount: \n",
    "totals = year_group['hours_played'].sum()\n",
    "print(totals)\n",
    "print(type(totals))"
   ]
  },
  {
   "cell_type": "code",
   "execution_count": null,
   "id": "26a0cdad",
   "metadata": {},
   "outputs": [],
   "source": [
    "year_with_max_hours = year_group['hours_played'].sum().idxmax()\n",
    "max_hours_played = year_group['hours_played'].sum().max()"
   ]
  },
  {
   "cell_type": "code",
   "execution_count": null,
   "id": "8f5dade6",
   "metadata": {},
   "outputs": [],
   "source": [
    "print(f\"Year with maximum hours played: {year_with_max_hours}\")\n",
    "print(f\"Maximum hours played: {max_hours_played}\")"
   ]
  },
  {
   "cell_type": "code",
   "execution_count": null,
   "id": "3ab96851",
   "metadata": {},
   "outputs": [],
   "source": [
    "#Last bit of the day - lets do a quick year on year comparison by hours played. \n",
    "\n",
    "totals.plot.line('hours_played')"
   ]
  },
  {
   "cell_type": "code",
   "execution_count": null,
   "id": "39b6cae2",
   "metadata": {},
   "outputs": [],
   "source": [
    "#this is it for play hours, but what about actual played songs? \n",
    "# WIll come to that later. "
   ]
  },
  {
   "cell_type": "markdown",
   "id": "f6848fb3",
   "metadata": {},
   "source": [
    "Conclusion: 2018 is the winner by a long way for playing music. I am kind of surprised at this, but also this was peak time that I was working in a loud office so I would likely have had tunes on to make the office easier. Let's check platform in 2018 to be sure. \n",
    "Conclusion 2: I think the music downfall round 2020 will coincide with the podcast increase. Will come to that later. "
   ]
  }
 ],
 "metadata": {
  "kernelspec": {
   "display_name": "Python 3 (ipykernel)",
   "language": "python",
   "name": "python3"
  },
  "language_info": {
   "codemirror_mode": {
    "name": "ipython",
    "version": 3
   },
   "file_extension": ".py",
   "mimetype": "text/x-python",
   "name": "python",
   "nbconvert_exporter": "python",
   "pygments_lexer": "ipython3",
   "version": "3.9.13"
  }
 },
 "nbformat": 4,
 "nbformat_minor": 5
}
